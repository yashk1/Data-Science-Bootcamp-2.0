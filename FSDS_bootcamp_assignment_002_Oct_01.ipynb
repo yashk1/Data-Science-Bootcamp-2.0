{
  "cells": [
    {
      "cell_type": "markdown",
      "metadata": {
        "colab_type": "text",
        "id": "view-in-github"
      },
      "source": [
        "<a href=\"https://colab.research.google.com/github/yashk1/Data-Science-Bootcamp-2.0/blob/main/FSDS_bootcamp_assignment_002_Oct_01.ipynb\" target=\"_parent\"><img src=\"https://colab.research.google.com/assets/colab-badge.svg\" alt=\"Open In Colab\"/></a>"
      ]
    },
    {
      "cell_type": "markdown",
      "metadata": {
        "id": "cyOfbWCdOjEr"
      },
      "source": [
        "# ASSIGNMENTS - Compulsory\n",
        "## Send it before 0000 hrs IST or 12 AM Wednesday\n",
        "\n",
        "## NOTE: Evaluation will be done before next class.\n",
        "\n",
        "## HOW TO SUBMIT: -\n",
        "Download this notebook, Solve it and upload in the google form given in the mail."
      ]
    },
    {
      "cell_type": "markdown",
      "metadata": {
        "id": "GT4IytkJMNa-"
      },
      "source": [
        "\n",
        "1. What is indentation error? Why indentation is important? Give one simple example?\n",
        "\n",
        "2. Correct the following code and write the comment where you made the correction?\n",
        "\n",
        "  ```python\n",
        "  class_started = bool(input(\"Hey friend, is class started?: [0-False/1-True]\"))\n",
        "\n",
        "  if class_started:\n",
        "      print(\"Since class started...\")\n",
        "      print(\"Lets concentrate\")\n",
        "  else:\n",
        "      print(\"Since class is not started...\")\n",
        "      print(\"let's revise\")    \n",
        "  ```\n",
        "\n",
        "  **HINT:** Refer your data type conversion class\n",
        "\n",
        "3. Use if else condition to verify that dataype of `input()` method in python is always string.\n",
        "\n",
        "4. Take 3 variables and assign integer values to them. Find the largest variable, by only using the if and else conditions.\n",
        "\n",
        "\n",
        "5. What would be the solution?\n",
        "    1. True\n",
        "    2. False\n",
        "\n",
        "    ```python\n",
        "    a = 6\n",
        "    b = 10\n",
        "    print( not ( not a == 10 or not b == 10) )\n",
        "    ```\n",
        "    \n",
        "6. Find the answer as well as find out the reason behind the result? -\n",
        "    - case 1:\n",
        "        ```python\n",
        "        A = 5.0\n",
        "        B = 10/2\n",
        "        print(A is B)\n",
        "        ```\n",
        "    - case 2:\n",
        "        ```python\n",
        "        A = 5.0\n",
        "        B = int(10/2)\n",
        "        print(A is B)\n",
        "        ```\n",
        "    - case 3:\n",
        "        ```python\n",
        "        A = 5.0\n",
        "        B = float(10/2)\n",
        "        print(A is B)\n",
        "        ```"
      ]
    },
    {
      "cell_type": "markdown",
      "metadata": {
        "id": "a_4kbBVWNY-4"
      },
      "source": [
        "### Try to understand the following examples and answer the question based on it - \n",
        "    \n",
        "**Arithmatic Operators**\n",
        "\n",
        "|Operation|Meaning|\n",
        "|:-:|:-:|\n",
        "| **+** |addition|\n",
        "| **-** |subtraction|\n",
        "| **\\*** |multiplication|\n",
        "| **/** |true division|\n",
        "| **//** |integer division|\n",
        "| **%** |the modulo operator|\n",
        "\n",
        "\n",
        "Here `+`, `-`, `*`, `/` are regular arithmatic operators. Lets look at the `//` and `%` operators\n",
        "\n",
        "Usecase or examples - \n",
        "    \n",
        "```python\n",
        "var_a = 5\n",
        "var_b = 25\n",
        "integer_division = var_b // var_a\n",
        "print(f\"integer division: {var_b}/{var_a}={integer_division}\")\n",
        "```\n",
        "\n",
        "OUTPUT: integer division: 25/5=5\n",
        "\n",
        "```python\n",
        "var_a = 3\n",
        "var_b = 25\n",
        "integer_division = var_b // var_a\n",
        "print(f\"integer division: {var_b}/{var_a}={integer_division}\")\n",
        "```\n",
        "\n",
        "OUTPUT: integer division: 25/3=8\n",
        "\n",
        "```python\n",
        "var_a = 5\n",
        "var_b = 25\n",
        "remainder = var_b % var_a\n",
        "print(f\"remainder: {var_b}/{var_a} is {remainder}\")\n",
        "```\n",
        "\n",
        "OUTPUT: remainder: 25/5 is 0\n",
        "\n",
        "```python\n",
        "var_a = 3\n",
        "var_b = 25\n",
        "remainder = var_b % var_a\n",
        "print(f\"remainder: {var_b}/{var_a} is {remainder}\")\n",
        "```\n",
        "\n",
        "OUTPUT: remainder: 25/3 is 1\n",
        "\n"
      ]
    },
    {
      "cell_type": "markdown",
      "metadata": {
        "id": "v288WPlMNxmM"
      },
      "source": [
        "### Answer below questions on the above theory - \n",
        "\n",
        "7. Write a program that asks the user to enter a number. You should print out a message to the user, either “That number is divisible by either 3 or 5”, or “That number is not divisible by either 3 or 5”. Be sure to consider the data type of the input you are taking in from the user. Use a single if/else block to solve this problem.\n",
        "\n",
        "8. Take user input for length and width. Then calculate the area of rectangle. Also print as per length and width whether its a square of rectangle.\n",
        "\n",
        "9. Take two variable radius_1 and radius_2 and calculate the area of circle_1 and circle_2. Also print which circle has large area. If area is equal then print area is equal.\n",
        "\n",
        "10. Check whether a year is leap year or not. Use nested if...else to solve this problem. A leap year is exactly divisible by 4 except for century years (years ending with 00). The century year is a leap year only if it is perfectly divisible by 400."
      ]
    },
    {
      "cell_type": "markdown",
      "metadata": {},
      "source": [
        "## 1. What is indentation error? Why indentation is important? Give one simple example?\n",
        "\n",
        "Indentation error occurs when the space are not placed properly. If the indentation is not properly given, the code will run incorretly.\n",
        "Example below-"
      ]
    },
    {
      "cell_type": "code",
      "execution_count": 2,
      "metadata": {
        "id": "XumyqFp6MHnv"
      },
      "outputs": [
        {
          "ename": "IndentationError",
          "evalue": "expected an indented block after 'if' statement on line 1 (3263884664.py, line 2)",
          "output_type": "error",
          "traceback": [
            "\u001b[0;36m  Input \u001b[0;32mIn [2]\u001b[0;36m\u001b[0m\n\u001b[0;31m    print('yash')\u001b[0m\n\u001b[0m    ^\u001b[0m\n\u001b[0;31mIndentationError\u001b[0m\u001b[0;31m:\u001b[0m expected an indented block after 'if' statement on line 1\n"
          ]
        }
      ],
      "source": [
        "\n",
        "if True:\n",
        "print('yash')\n",
        "else:\n",
        "    print('hello')\n",
        "\n",
        "The above code will give error and not run."
      ]
    },
    {
      "cell_type": "markdown",
      "metadata": {},
      "source": [
        "## 2. Correct the following code and write the comment where you made the correction?\n",
        "\n",
        "  ```python\n",
        "  class_started = bool(input(\"Hey friend, is class started?: [0-False/1-True]\"))\n",
        "\n",
        "  if class_started:\n",
        "      print(\"Since class started...\")\n",
        "      print(\"Lets concentrate\")\n",
        "  else:\n",
        "      print(\"Since class is not started...\")\n",
        "      print(\"let's revise\")    \n",
        "  ```\n",
        "\n",
        "  **HINT:** Refer your data type conversion class\n"
      ]
    },
    {
      "cell_type": "code",
      "execution_count": 7,
      "metadata": {},
      "outputs": [
        {
          "name": "stdout",
          "output_type": "stream",
          "text": [
            "Since class started...\n",
            "Lets concentrate\n"
          ]
        }
      ],
      "source": [
        "class_started = bool(input(\"Hey friend, is class started?: [0-False/1-True]\")) #converted the input to bool\n",
        "#added class_started == True\n",
        "if class_started == True:\n",
        "    print(\"Since class started...\")\n",
        "    print(\"Lets concentrate\")\n",
        "else:\n",
        "    print(\"Since class is not started...\")\n",
        "    print(\"let's revise\")"
      ]
    },
    {
      "cell_type": "markdown",
      "metadata": {},
      "source": [
        "## 3. Use if else condition to verify that dataype of `input()` method in python is always string."
      ]
    },
    {
      "cell_type": "code",
      "execution_count": 13,
      "metadata": {},
      "outputs": [
        {
          "name": "stdout",
          "output_type": "stream",
          "text": [
            "datatype of 31 as an integer input is string\n"
          ]
        }
      ],
      "source": [
        "#Taking an integer input from the user\n",
        "age = input(\"Enter your age: \")\n",
        "\n",
        "if type(age) == str:\n",
        "    print(f'datatype of {age} as an integer input is string')\n",
        "else:\n",
        "    print(f'datatype of {age} is not a string')"
      ]
    },
    {
      "cell_type": "markdown",
      "metadata": {},
      "source": [
        "## 4. Take 3 variables and assign integer values to them. Find the largest variable, by only using the if and else conditions."
      ]
    },
    {
      "cell_type": "code",
      "execution_count": 16,
      "metadata": {},
      "outputs": [
        {
          "name": "stdout",
          "output_type": "stream",
          "text": [
            "6 is the largest among 2,4,6\n"
          ]
        }
      ],
      "source": [
        "a = 2\n",
        "b = 4\n",
        "c = 6\n",
        "\n",
        "largest = 0 \n",
        "if a>b and a>c:\n",
        "    largest = a\n",
        "elif b>a and b> c:\n",
        "    largest = b\n",
        "else:\n",
        "    largest = c\n",
        "\n",
        "print(f'{largest} is the largest among {a},{b},{c}')"
      ]
    },
    {
      "cell_type": "markdown",
      "metadata": {},
      "source": [
        "## 5. What would be the solution?\n",
        "        1. True\n",
        "        2. False\n",
        "\n",
        "    ```python\n",
        "    a = 6\n",
        "    b = 10\n",
        "    print( not ( not a == 10 or not b == 10) )\n",
        "    ```\n",
        "\n",
        "\n",
        "##### ANSWER- FALSE\n"
      ]
    },
    {
      "cell_type": "markdown",
      "metadata": {},
      "source": [
        "## 6. Find the answer as well as find out the reason behind the result? -\n",
        "    - case 1:\n",
        "        ```python\n",
        "        A = 5.0\n",
        "        B = 10/2\n",
        "        print(A is B)\n",
        "        ```\n",
        "    - case 2:\n",
        "        ```python\n",
        "        A = 5.0\n",
        "        B = int(10/2)\n",
        "        print(A is B)\n",
        "        ```\n",
        "    - case 3:\n",
        "        ```python\n",
        "        A = 5.0\n",
        "        B = float(10/2)\n",
        "        print(A is B)\n",
        "        ```\n",
        "\n",
        "###### ANSWER\n",
        "\n",
        "Case 1 - TRUE <br>\n",
        "    - because B = 10/2 which is 5.0 ( \" / \" is the true division operator) <br>\n",
        "    - A = 5.0 <br>\n",
        "    - A is B = True <br>\n",
        "\n",
        "Case 2 - FALSE <br>\n",
        "    - because B = 10/2 which is 5.0 -> converting into int(5.0) -> 5<br>\n",
        "    - A = 5.0 <br>\n",
        "    - 5.0 is not equal to 5 -> return False<br>\n",
        "\n",
        "Case 3 - TRUE<br>\n",
        "    - B = float(10/2) -> float(5) -> 5.0<br>\n",
        "    - A = 5.0 <br>\n",
        "    - A is B -> TRUE<br>"
      ]
    },
    {
      "cell_type": "markdown",
      "metadata": {},
      "source": [
        "## 7. Write a program that asks the user to enter a number. You should print out a message to the user, either “That number is divisible by either 3 or 5”, or “That number is not divisible by either 3 or 5”. Be sure to consider the data type of the input you are taking in from the user. Use a single if/else block to solve this problem."
      ]
    },
    {
      "cell_type": "code",
      "execution_count": 21,
      "metadata": {},
      "outputs": [
        {
          "name": "stdout",
          "output_type": "stream",
          "text": [
            "The number is divisible by either 3 or 5\n"
          ]
        }
      ],
      "source": [
        "number = int(input(\"Enter a number: \"))\n",
        "\n",
        "if number % 3==0 or number % 5 == 0:\n",
        "    print('The number is divisible by either 3 or 5')\n",
        "else:\n",
        "    print(\"The number is not divisible by either 3 or 5\")"
      ]
    },
    {
      "cell_type": "markdown",
      "metadata": {},
      "source": [
        "## 8. Take user input for length and width. Then calculate the area of rectangle. Also print as per length and width whether its a square of rectangle."
      ]
    },
    {
      "cell_type": "code",
      "execution_count": 22,
      "metadata": {},
      "outputs": [
        {
          "name": "stdout",
          "output_type": "stream",
          "text": [
            "The area of a rectangle based on length and width is : 20.0\n"
          ]
        }
      ],
      "source": [
        "length = float(input(\"Enter the length: \"))\n",
        "width = float(input('Enter the width: '))\n",
        "\n",
        "area = length * width\n",
        "\n",
        "if length == width:\n",
        "    print(f\"The area of the sqaure is {length*2}\")\n",
        "else:\n",
        "    print(f'The area of a rectangle based on length and width is : {length*width}')"
      ]
    },
    {
      "cell_type": "markdown",
      "metadata": {},
      "source": [
        "## 9. Take two variable radius_1 and radius_2 and calculate the area of circle_1 and circle_2. Also print which circle has large area. If area is equal then print area is equal."
      ]
    },
    {
      "cell_type": "code",
      "execution_count": 23,
      "metadata": {},
      "outputs": [
        {
          "name": "stdout",
          "output_type": "stream",
          "text": [
            "Area of circle 2 is greater area of circle 1\n"
          ]
        }
      ],
      "source": [
        "radius_1 = float(input('Enter radius of first circle'))\n",
        "radius_2 = float(input('Enter the radius of second circle: '))\n",
        "\n",
        "area_1 = 3.14 * (radius_1 ** 2)\n",
        "area_2 = 3.14 * (radius_2 ** 2)\n",
        "\n",
        "if area_1 > area_2:\n",
        "    print('Area of circle 1 is greater area of circle 2')\n",
        "elif area_1 < area_2:\n",
        "    print('Area of circle 2 is greater area of circle 1')\n",
        "else:\n",
        "    print('Area of both circle are equal')"
      ]
    },
    {
      "cell_type": "markdown",
      "metadata": {},
      "source": [
        "Check whether a year is leap year or not. Use nested if...else to solve this problem. A leap year is exactly divisible by 4 except for century years (years ending with 00). The century year is a leap year only if it is perfectly divisible by 400."
      ]
    },
    {
      "cell_type": "markdown",
      "metadata": {},
      "source": [
        "## 10. Check whether a year is leap year or not. Use nested if...else to solve this problem. A leap year is exactly divisible by 4 except for century years (years ending with 00). The century year is a leap year only if it is perfectly divisible by 400."
      ]
    },
    {
      "cell_type": "code",
      "execution_count": 27,
      "metadata": {},
      "outputs": [
        {
          "name": "stdout",
          "output_type": "stream",
          "text": [
            "100 is not a leap year\n"
          ]
        }
      ],
      "source": [
        "year = int(input('Enter a year: '))\n",
        "\n",
        "if (year %4 ==0) and (year%100 != 0) or (year %400 ==0) :\n",
        "    print(f'{year} is a leap year')\n",
        "    \n",
        "else:\n",
        "    print(f'{year} is not a leap year')\n"
      ]
    }
  ],
  "metadata": {
    "colab": {
      "collapsed_sections": [],
      "include_colab_link": true,
      "provenance": []
    },
    "kernelspec": {
      "display_name": "Python 3.10.4 64-bit",
      "language": "python",
      "name": "python3"
    },
    "language_info": {
      "codemirror_mode": {
        "name": "ipython",
        "version": 3
      },
      "file_extension": ".py",
      "mimetype": "text/x-python",
      "name": "python",
      "nbconvert_exporter": "python",
      "pygments_lexer": "ipython3",
      "version": "3.10.4"
    },
    "vscode": {
      "interpreter": {
        "hash": "aee8b7b246df8f9039afb4144a1f6fd8d2ca17a180786b69acc140d282b71a49"
      }
    }
  },
  "nbformat": 4,
  "nbformat_minor": 0
}
