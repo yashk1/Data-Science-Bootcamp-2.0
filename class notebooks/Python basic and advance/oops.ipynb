{
 "cells": [
  {
   "cell_type": "code",
   "execution_count": 8,
   "metadata": {},
   "outputs": [],
   "source": [
    "class car:\n",
    "    def __init__(self, brand_name, fuel_type, body_type):\n",
    "        self.brand_name = brand_name\n",
    "        self.fuel_type = fuel_type\n",
    "        self.body_type = body_type\n",
    "        \n",
    "    def describe_car(self):\n",
    "        print( self.brand_name,self.fuel_type, self.body_type)"
   ]
  },
  {
   "cell_type": "code",
   "execution_count": 11,
   "metadata": {},
   "outputs": [],
   "source": [
    "innova = car('toyota', 'petrol', 'suv')"
   ]
  },
  {
   "cell_type": "code",
   "execution_count": 12,
   "metadata": {},
   "outputs": [
    {
     "name": "stdout",
     "output_type": "stream",
     "text": [
      "toyota petrol suv\n"
     ]
    }
   ],
   "source": [
    "innova.describe_car()"
   ]
  },
  {
   "attachments": {},
   "cell_type": "markdown",
   "metadata": {},
   "source": [
    "## Not necessary to create a constructor"
   ]
  },
  {
   "cell_type": "code",
   "execution_count": 3,
   "metadata": {},
   "outputs": [],
   "source": [
    "class car:\n",
    "        \n",
    "    def describe_car(self):\n",
    "        print(\"this class doesn't have init method\")"
   ]
  },
  {
   "cell_type": "code",
   "execution_count": 6,
   "metadata": {},
   "outputs": [
    {
     "name": "stdout",
     "output_type": "stream",
     "text": [
      "this class doesn't have init method\n"
     ]
    }
   ],
   "source": [
    "x = car()\n",
    "x.describe_car()"
   ]
  },
  {
   "attachments": {},
   "cell_type": "markdown",
   "metadata": {},
   "source": [
    "##### by deafult the very first argument is a pointer "
   ]
  },
  {
   "cell_type": "code",
   "execution_count": 7,
   "metadata": {},
   "outputs": [],
   "source": [
    "class car2:\n",
    "        \n",
    "    def describe_car(yash):\n",
    "        print(\"this class doesn't have init method\")"
   ]
  },
  {
   "cell_type": "code",
   "execution_count": 9,
   "metadata": {},
   "outputs": [
    {
     "name": "stdout",
     "output_type": "stream",
     "text": [
      "this class doesn't have init method\n"
     ]
    }
   ],
   "source": [
    "x = car2() #it is a object of car class\n",
    "x.describe_car()"
   ]
  },
  {
   "cell_type": "code",
   "execution_count": null,
   "metadata": {},
   "outputs": [],
   "source": []
  },
  {
   "attachments": {},
   "cell_type": "markdown",
   "metadata": {},
   "source": [
    "## Task\n",
    "Take a list and try to perfomr some form of parsing and give an output\n",
    "\n",
    "1. parse a list\n",
    "2. print reverse of a list\n",
    "3. print every alt element"
   ]
  },
  {
   "cell_type": "code",
   "execution_count": 12,
   "metadata": {},
   "outputs": [],
   "source": [
    "class list_parser:\n",
    "    def parcer(self, a):\n",
    "        if type(a) == list:\n",
    "            for i in a:\n",
    "                print(i)\n",
    "\n",
    "    def reverse_list(self, z):\n",
    "        if type(z) == list:\n",
    "            return z[::-1]"
   ]
  },
  {
   "cell_type": "code",
   "execution_count": 14,
   "metadata": {},
   "outputs": [
    {
     "name": "stdout",
     "output_type": "stream",
     "text": [
      "120\n",
      "1212\n",
      "12\n",
      "1000\n",
      "1\n",
      "12\n"
     ]
    },
    {
     "data": {
      "text/plain": [
       "[12, 1, 1000, 12, 1212, 120]"
      ]
     },
     "execution_count": 14,
     "metadata": {},
     "output_type": "execute_result"
    }
   ],
   "source": [
    "c = list_parser()\n",
    "\n",
    "lst = [120,1212,12,1000,1,12]\n",
    "\n",
    "c.parcer(lst)\n",
    "c.reverse_list(lst)"
   ]
  },
  {
   "cell_type": "code",
   "execution_count": 15,
   "metadata": {},
   "outputs": [],
   "source": [
    "class list_parser:\n",
    "    def __init__(self, l) -> None:\n",
    "        self.l = l\n",
    "\n",
    "    def parcer(self):\n",
    "        if type(self.l) == list:\n",
    "            for i in self.l:\n",
    "                print(i)\n",
    "\n",
    "    def reverse_list(self):\n",
    "        if type(self.l) == list:\n",
    "            return self.l[::-1]"
   ]
  },
  {
   "cell_type": "code",
   "execution_count": 19,
   "metadata": {},
   "outputs": [
    {
     "name": "stdout",
     "output_type": "stream",
     "text": [
      "12\n",
      "1\n",
      "1000\n",
      "12\n",
      "1212\n",
      "120\n"
     ]
    },
    {
     "data": {
      "text/plain": [
       "[120, 1212, 12, 1000, 1, 12]"
      ]
     },
     "execution_count": 19,
     "metadata": {},
     "output_type": "execute_result"
    }
   ],
   "source": [
    "#pass data only once by providng the data in the constructor\n",
    "c = list_parser([12, 1, 1000, 12, 1212, 120])\n",
    "\n",
    "c.parcer()\n",
    "c.reverse_list()"
   ]
  },
  {
   "attachments": {},
   "cell_type": "markdown",
   "metadata": {},
   "source": [
    "## Task\n",
    "Create a class for dictionary parsing\n",
    "\n",
    "1. Write a function to give all the keys\n",
    "2. Write a function to give all the values\n",
    "3. Write a fucntion to throw an exceptionin case of input is not dictionary\n",
    "4. Write a function for taking user input and then parse a key and value out of dict\n",
    "5. Write a function to insert a new key value pair into dictionary"
   ]
  },
  {
   "cell_type": "code",
   "execution_count": 49,
   "metadata": {},
   "outputs": [],
   "source": [
    "class dict_parser():\n",
    "    def __init__(self, dic) -> None:\n",
    "        self.dic = dic\n",
    "\n",
    "    def get_keys(self):\n",
    "        if self.input_type():\n",
    "            return self.dic.keys()\n",
    "\n",
    "    def get_values(self):\n",
    "        return self.dic.values()\n",
    "\n",
    "    def input_type(self):\n",
    "        if type(self.dic) != dict:\n",
    "            raise Exception(self.a, \"Not a dictionary\")\n",
    "\n",
    "    def take_input(self):\n",
    "        a = input('enter a key')\n",
    "        b = input('enter a value')\n",
    "\n",
    "        self.dic[a] = b\n",
    "        return self.dic\n",
    "\n",
    "    def insert_new_pair(self, key, value):\n",
    "        self.dic[key] = value\n",
    "        return self.dic\n",
    "\n"
   ]
  },
  {
   "cell_type": "code",
   "execution_count": 45,
   "metadata": {},
   "outputs": [
    {
     "data": {
      "text/plain": [
       "dict_keys(['fname', 'lname'])"
      ]
     },
     "execution_count": 45,
     "metadata": {},
     "output_type": "execute_result"
    }
   ],
   "source": [
    "d = dict_parser({'fname': 'yash','lname':'sharma'})\n",
    "\n",
    "d.get_keys()\n"
   ]
  },
  {
   "cell_type": "code",
   "execution_count": 46,
   "metadata": {},
   "outputs": [
    {
     "data": {
      "text/plain": [
       "dict_values(['yash', 'sharma'])"
      ]
     },
     "execution_count": 46,
     "metadata": {},
     "output_type": "execute_result"
    }
   ],
   "source": [
    "d.get_values()"
   ]
  },
  {
   "cell_type": "code",
   "execution_count": 47,
   "metadata": {},
   "outputs": [
    {
     "data": {
      "text/plain": [
       "{'fname': 'yash', 'lname': 'sharma', '': ''}"
      ]
     },
     "execution_count": 47,
     "metadata": {},
     "output_type": "execute_result"
    }
   ],
   "source": [
    "d.take_input()"
   ]
  },
  {
   "cell_type": "code",
   "execution_count": 48,
   "metadata": {},
   "outputs": [
    {
     "data": {
      "text/plain": [
       "{'fname': 'yash', 'lname': 'sharma', '': '', 'phone': 8178638439}"
      ]
     },
     "execution_count": 48,
     "metadata": {},
     "output_type": "execute_result"
    }
   ],
   "source": [
    "d.insert_new_pair('phone', 8178638439)"
   ]
  },
  {
   "cell_type": "code",
   "execution_count": 51,
   "metadata": {},
   "outputs": [
    {
     "data": {
      "text/plain": [
       "<_io.TextIOWrapper name='mydict.py' mode='w' encoding='UTF-8'>"
      ]
     },
     "execution_count": 51,
     "metadata": {},
     "output_type": "execute_result"
    }
   ],
   "source": [
    "open('mydict.py', \"w\")"
   ]
  },
  {
   "attachments": {},
   "cell_type": "markdown",
   "metadata": {},
   "source": [
    "## Creating my own module "
   ]
  },
  {
   "cell_type": "code",
   "execution_count": 52,
   "metadata": {},
   "outputs": [],
   "source": [
    "import mydict"
   ]
  },
  {
   "cell_type": "code",
   "execution_count": 53,
   "metadata": {},
   "outputs": [],
   "source": [
    "dictionary = {'fullname': 'yash sharma', 'phone': 8178638439}"
   ]
  },
  {
   "cell_type": "code",
   "execution_count": 59,
   "metadata": {},
   "outputs": [
    {
     "data": {
      "text/plain": [
       "dict_values(['yash sharma', 8178638439])"
      ]
     },
     "execution_count": 59,
     "metadata": {},
     "output_type": "execute_result"
    }
   ],
   "source": [
    "d = mydict.dict_parser(dictionary)\n",
    "d.get_values()"
   ]
  },
  {
   "attachments": {},
   "cell_type": "markdown",
   "metadata": {},
   "source": [
    "# Task\n",
    "\n",
    "1. Create a package for all the list function\n",
    "2. Create a package for all the tuple function\n",
    "3. Create a package for all the dictionary function\n",
    "4. Create a package for all the set function\n",
    "\n",
    "Guidlines-\n",
    "1. Use exception handling\n",
    "2. dont; use print statement\n",
    "3. always use logging while writing a code and log every activity perfomed by code in respective logging file"
   ]
  },
  {
   "cell_type": "code",
   "execution_count": null,
   "metadata": {},
   "outputs": [],
   "source": [
    "l = "
   ]
  }
 ],
 "metadata": {
  "kernelspec": {
   "display_name": "Python 3",
   "language": "python",
   "name": "python3"
  },
  "language_info": {
   "codemirror_mode": {
    "name": "ipython",
    "version": 3
   },
   "file_extension": ".py",
   "mimetype": "text/x-python",
   "name": "python",
   "nbconvert_exporter": "python",
   "pygments_lexer": "ipython3",
   "version": "3.10.4"
  },
  "orig_nbformat": 4,
  "vscode": {
   "interpreter": {
    "hash": "aee8b7b246df8f9039afb4144a1f6fd8d2ca17a180786b69acc140d282b71a49"
   }
  }
 },
 "nbformat": 4,
 "nbformat_minor": 2
}
