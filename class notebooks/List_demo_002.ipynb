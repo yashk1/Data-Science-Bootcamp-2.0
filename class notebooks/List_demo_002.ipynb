{
  "cells": [
    {
      "cell_type": "markdown",
      "metadata": {
        "colab_type": "text",
        "id": "view-in-github"
      },
      "source": [
        "<a href=\"https://colab.research.google.com/github/yashk1/Data-Science-Bootcamp-2.0/blob/main/List_demo_002.ipynb\" target=\"_parent\"><img src=\"https://colab.research.google.com/assets/colab-badge.svg\" alt=\"Open In Colab\"/></a>"
      ]
    },
    {
      "cell_type": "markdown",
      "metadata": {
        "id": "j6fWsQ1qMb3M"
      },
      "source": [
        "# Nesting of the list\n",
        "\n",
        "list inside a list"
      ]
    },
    {
      "cell_type": "markdown",
      "metadata": {
        "id": "4_cOs5JIM2sX"
      },
      "source": []
    },
    {
      "cell_type": "code",
      "execution_count": null,
      "metadata": {
        "colab": {
          "base_uri": "https://localhost:8080/"
        },
        "id": "6gv8-SfnLK_n",
        "outputId": "0d91da86-7aed-4e9e-a23c-208ce9c07d21"
      },
      "outputs": [
        {
          "data": {
            "text/plain": [
              "[[1, 2, 3], [11, 22, 33], [45, 56, 77]]"
            ]
          },
          "execution_count": 1,
          "metadata": {},
          "output_type": "execute_result"
        }
      ],
      "source": [
        "A = [[1,2,3], [11, 22, 33], [45, 56, 77]]\n",
        "\n",
        "A"
      ]
    },
    {
      "cell_type": "code",
      "execution_count": null,
      "metadata": {
        "colab": {
          "base_uri": "https://localhost:8080/"
        },
        "id": "l_OoTnJiMxKP",
        "outputId": "04aefb7c-a49e-4292-91da-306c2d7a4abf"
      },
      "outputs": [
        {
          "data": {
            "text/plain": [
              "[1, 2, 3]"
            ]
          },
          "execution_count": 2,
          "metadata": {},
          "output_type": "execute_result"
        }
      ],
      "source": [
        "A[0]"
      ]
    },
    {
      "cell_type": "code",
      "execution_count": null,
      "metadata": {
        "colab": {
          "base_uri": "https://localhost:8080/"
        },
        "id": "-n2gW13EM7a7",
        "outputId": "cd597034-2685-444c-ca8d-15090978cfe3"
      },
      "outputs": [
        {
          "data": {
            "text/plain": [
              "[11, 22, 33]"
            ]
          },
          "execution_count": 3,
          "metadata": {},
          "output_type": "execute_result"
        }
      ],
      "source": [
        "A[1]"
      ]
    },
    {
      "cell_type": "code",
      "execution_count": null,
      "metadata": {
        "colab": {
          "base_uri": "https://localhost:8080/"
        },
        "id": "FcfBDpRHM-E_",
        "outputId": "7489d2a9-0a19-4af5-cdac-1b15a6f4a0ea"
      },
      "outputs": [
        {
          "data": {
            "text/plain": [
              "22"
            ]
          },
          "execution_count": 4,
          "metadata": {},
          "output_type": "execute_result"
        }
      ],
      "source": [
        "A[1][1]"
      ]
    },
    {
      "cell_type": "code",
      "execution_count": null,
      "metadata": {
        "colab": {
          "base_uri": "https://localhost:8080/"
        },
        "id": "OL8ozK4mNBDM",
        "outputId": "eea90b0e-742d-4767-cff8-cf46e5f0bb63"
      },
      "outputs": [
        {
          "data": {
            "text/plain": [
              "[1, 2, 3]"
            ]
          },
          "execution_count": 5,
          "metadata": {},
          "output_type": "execute_result"
        }
      ],
      "source": [
        "A = [[1,2,3], [11, 22, 33, [500, 502]], [45, 56, 77]]\n",
        "\n",
        "A[0]"
      ]
    },
    {
      "cell_type": "code",
      "execution_count": null,
      "metadata": {
        "colab": {
          "base_uri": "https://localhost:8080/"
        },
        "id": "EXYB5ZmxNMW-",
        "outputId": "e2fba830-c9ae-4ab2-f2b0-54efb5829879"
      },
      "outputs": [
        {
          "data": {
            "text/plain": [
              "[11, 22, 33, [500, 502]]"
            ]
          },
          "execution_count": 6,
          "metadata": {},
          "output_type": "execute_result"
        }
      ],
      "source": [
        "A[1]"
      ]
    },
    {
      "cell_type": "code",
      "execution_count": null,
      "metadata": {
        "colab": {
          "base_uri": "https://localhost:8080/"
        },
        "id": "FUasYpMVNOMc",
        "outputId": "337960ed-8c75-4bc1-d58b-b35e78ad69ac"
      },
      "outputs": [
        {
          "data": {
            "text/plain": [
              "[500, 502]"
            ]
          },
          "execution_count": 7,
          "metadata": {},
          "output_type": "execute_result"
        }
      ],
      "source": [
        "A[1][3]"
      ]
    },
    {
      "cell_type": "code",
      "execution_count": null,
      "metadata": {
        "colab": {
          "base_uri": "https://localhost:8080/"
        },
        "id": "i27-7VNbNTwj",
        "outputId": "70238076-6eac-4122-844b-5b6549cfc471"
      },
      "outputs": [
        {
          "data": {
            "text/plain": [
              "500"
            ]
          },
          "execution_count": 8,
          "metadata": {},
          "output_type": "execute_result"
        }
      ],
      "source": [
        "A[1][3][0]"
      ]
    },
    {
      "cell_type": "code",
      "execution_count": null,
      "metadata": {
        "id": "LhqeUoRTNWxp"
      },
      "outputs": [],
      "source": [
        "A = [[1,2,3], [11, 22, 33, [500, 502]], [45, [239, \"Hiii\"], 56, 77]]"
      ]
    },
    {
      "cell_type": "code",
      "execution_count": null,
      "metadata": {
        "colab": {
          "base_uri": "https://localhost:8080/",
          "height": 35
        },
        "id": "DUUVAqkDNj_B",
        "outputId": "0f109687-815a-4c14-9349-650656ae3aae"
      },
      "outputs": [
        {
          "data": {
            "application/vnd.google.colaboratory.intrinsic+json": {
              "type": "string"
            },
            "text/plain": [
              "'Hiii'"
            ]
          },
          "execution_count": 12,
          "metadata": {},
          "output_type": "execute_result"
        }
      ],
      "source": [
        "A[2][1][1]"
      ]
    },
    {
      "cell_type": "code",
      "execution_count": null,
      "metadata": {
        "colab": {
          "base_uri": "https://localhost:8080/",
          "height": 35
        },
        "id": "mndVyPDCNzDI",
        "outputId": "d40e4483-ab67-47d8-e914-5c2fde0c027f"
      },
      "outputs": [
        {
          "data": {
            "application/vnd.google.colaboratory.intrinsic+json": {
              "type": "string"
            },
            "text/plain": [
              "'Hiii'"
            ]
          },
          "execution_count": 15,
          "metadata": {},
          "output_type": "execute_result"
        }
      ],
      "source": [
        "A[-1][1][-1]"
      ]
    },
    {
      "cell_type": "code",
      "execution_count": null,
      "metadata": {
        "colab": {
          "base_uri": "https://localhost:8080/",
          "height": 35
        },
        "id": "8McAMPOOOBL5",
        "outputId": "73aef192-297a-4e7a-a3c7-de75ce894eb4"
      },
      "outputs": [
        {
          "data": {
            "application/vnd.google.colaboratory.intrinsic+json": {
              "type": "string"
            },
            "text/plain": [
              "'Hiii'"
            ]
          },
          "execution_count": 16,
          "metadata": {},
          "output_type": "execute_result"
        }
      ],
      "source": [
        "A[-1][-3][-1] \n"
      ]
    },
    {
      "cell_type": "code",
      "execution_count": null,
      "metadata": {
        "id": "aawC6ncyOOuz"
      },
      "outputs": [],
      "source": [
        "amazon_cart = [[\"watch\", 5000], [\"phone\", 10000], [\"laptop\", 50000]]\n",
        "\n",
        "total_cost = 0"
      ]
    },
    {
      "cell_type": "code",
      "execution_count": null,
      "metadata": {
        "colab": {
          "base_uri": "https://localhost:8080/"
        },
        "id": "D0_iqr5YPAXO",
        "outputId": "93c2177e-aa7f-44fe-a15c-552b574c4a6e"
      },
      "outputs": [
        {
          "data": {
            "text/plain": [
              "5000"
            ]
          },
          "execution_count": 20,
          "metadata": {},
          "output_type": "execute_result"
        }
      ],
      "source": [
        "# without for loop\n",
        "\n",
        "amazon_cart[0][1]"
      ]
    },
    {
      "cell_type": "code",
      "execution_count": null,
      "metadata": {
        "colab": {
          "base_uri": "https://localhost:8080/"
        },
        "id": "Wl2QJk2CPGqi",
        "outputId": "1fec2259-6459-4e50-af60-f43e80e218c4"
      },
      "outputs": [
        {
          "data": {
            "text/plain": [
              "10000"
            ]
          },
          "execution_count": 21,
          "metadata": {},
          "output_type": "execute_result"
        }
      ],
      "source": [
        "amazon_cart[1][1]"
      ]
    },
    {
      "cell_type": "code",
      "execution_count": null,
      "metadata": {
        "colab": {
          "base_uri": "https://localhost:8080/"
        },
        "id": "KIl5gP1EPLVh",
        "outputId": "73977b19-ef05-4a7a-f5a8-341467c51dd9"
      },
      "outputs": [
        {
          "data": {
            "text/plain": [
              "50000"
            ]
          },
          "execution_count": 22,
          "metadata": {},
          "output_type": "execute_result"
        }
      ],
      "source": [
        "amazon_cart[2][1]"
      ]
    },
    {
      "cell_type": "code",
      "execution_count": null,
      "metadata": {
        "colab": {
          "base_uri": "https://localhost:8080/"
        },
        "id": "i-jf9zcxPNS3",
        "outputId": "c6b9dfd3-3545-4224-af9c-49b8ebb75cc4"
      },
      "outputs": [
        {
          "data": {
            "text/plain": [
              "65000"
            ]
          },
          "execution_count": 23,
          "metadata": {},
          "output_type": "execute_result"
        }
      ],
      "source": [
        "amazon_cart[0][1] + amazon_cart[1][1] + amazon_cart[2][1]"
      ]
    },
    {
      "cell_type": "code",
      "execution_count": null,
      "metadata": {
        "colab": {
          "base_uri": "https://localhost:8080/"
        },
        "id": "sANHXO89PYgQ",
        "outputId": "460c92c6-427c-41c0-aadb-145428507067"
      },
      "outputs": [
        {
          "name": "stdout",
          "output_type": "stream",
          "text": [
            "5000\n",
            "10000\n",
            "50000\n",
            "65000\n"
          ]
        }
      ],
      "source": [
        "total_cost = 0\n",
        "\n",
        "for i in range(len(amazon_cart)):\n",
        "  # print(i)\n",
        "  print(amazon_cart[i][1])\n",
        "  total_cost = total_cost + amazon_cart[i][1]\n",
        "\n",
        "print(total_cost)"
      ]
    },
    {
      "cell_type": "code",
      "execution_count": null,
      "metadata": {
        "id": "3eSPVZH_RcSn"
      },
      "outputs": [],
      "source": []
    },
    {
      "cell_type": "code",
      "execution_count": null,
      "metadata": {
        "colab": {
          "base_uri": "https://localhost:8080/"
        },
        "id": "vFDmrGIlPvO2",
        "outputId": "2d342aca-b89f-47c1-c789-25d6fb222282"
      },
      "outputs": [
        {
          "name": "stdout",
          "output_type": "stream",
          "text": [
            "empty cart: 0\n",
            "5000\n",
            "cart after adding watch: 5000\n",
            "10000\n",
            "cart after adding phone: 15000\n",
            "50000\n",
            "cart after adding laptop: 65000\n",
            "Total payable amount: 65000\n"
          ]
        }
      ],
      "source": [
        "total_cost = 0\n",
        "print(f\"empty cart: {total_cost}\")\n",
        "\n",
        "for item in amazon_cart:\n",
        "  print(item[1])\n",
        "  total_cost = total_cost + item[1]\n",
        "  print(f\"cart after adding {item[0]}: {total_cost}\")\n",
        "\n",
        "print(f\"Total payable amount: {total_cost}\")"
      ]
    },
    {
      "cell_type": "markdown",
      "metadata": {
        "id": "mT9JyubHRnAk"
      },
      "source": [
        "## List comprehension"
      ]
    },
    {
      "cell_type": "code",
      "execution_count": null,
      "metadata": {
        "id": "E8dH5pnkRmF9"
      },
      "outputs": [],
      "source": [
        "# list which contains list of square of nos between 1 to 10\n",
        "\n",
        "\n",
        "A = [1,2,3,4,5,6,7,8,9,10]\n",
        "ans = [1, 4, 9, 16, ...]"
      ]
    },
    {
      "cell_type": "code",
      "execution_count": null,
      "metadata": {
        "colab": {
          "base_uri": "https://localhost:8080/"
        },
        "id": "Jqkoh82HQHnl",
        "outputId": "4d5ef775-926b-4d92-b2e8-ca0d0f8e8480"
      },
      "outputs": [
        {
          "name": "stdout",
          "output_type": "stream",
          "text": [
            "1\n",
            "4\n",
            "9\n",
            "16\n",
            "25\n",
            "36\n",
            "49\n",
            "64\n",
            "81\n",
            "100\n",
            "[1, 4, 9, 16, 25, 36, 49, 64, 81, 100]\n"
          ]
        }
      ],
      "source": [
        "A = [1,2,3,4,5,6,7,8,9,10]\n",
        "\n",
        "ans = list()\n",
        "\n",
        "for ele in A:\n",
        "  print(ele**2)\n",
        "  ans.append(ele**2)\n",
        "\n",
        "print(ans)"
      ]
    },
    {
      "cell_type": "code",
      "execution_count": null,
      "metadata": {
        "colab": {
          "base_uri": "https://localhost:8080/"
        },
        "id": "9YoqZxcCSRB0",
        "outputId": "0b8cd818-cddd-4558-becb-d16b8dcc7243"
      },
      "outputs": [
        {
          "name": "stdout",
          "output_type": "stream",
          "text": [
            "[1, 4, 9, 16, 25, 36, 49, 64, 81, 100]\n"
          ]
        }
      ],
      "source": [
        "ans = [ele**2 for ele in A]\n",
        "\n",
        "print(ans)"
      ]
    },
    {
      "cell_type": "code",
      "execution_count": null,
      "metadata": {
        "colab": {
          "base_uri": "https://localhost:8080/"
        },
        "id": "cmLYJ2uPSqSh",
        "outputId": "634a4991-979a-451d-80fd-dee2d4549ec4"
      },
      "outputs": [
        {
          "name": "stdout",
          "output_type": "stream",
          "text": [
            "[1, 4, 9, 16, 25, 36, 49, 64, 81, 100]\n"
          ]
        }
      ],
      "source": [
        "ans = [i**2 for i in A]\n",
        "\n",
        "print(ans)"
      ]
    },
    {
      "cell_type": "code",
      "execution_count": null,
      "metadata": {
        "colab": {
          "base_uri": "https://localhost:8080/"
        },
        "id": "tNQ9rIw6S37j",
        "outputId": "56e8b8a7-324e-4baa-cac6-8107cdcefc00"
      },
      "outputs": [
        {
          "name": "stdout",
          "output_type": "stream",
          "text": [
            "[]\n",
            "1\n",
            "[1]\n",
            "9\n",
            "[1, 9]\n",
            "25\n",
            "[1, 9, 25]\n",
            "49\n",
            "[1, 9, 25, 49]\n",
            "81\n",
            "[1, 9, 25, 49, 81]\n"
          ]
        },
        {
          "data": {
            "text/plain": [
              "[1, 9, 25, 49, 81]"
            ]
          },
          "execution_count": 46,
          "metadata": {},
          "output_type": "execute_result"
        }
      ],
      "source": [
        "# only take the square of odd no in the list A\n",
        "\n",
        "A = [1,2,3,4,5,6,7,8,9,10]\n",
        "\n",
        "ans = list()\n",
        "print(ans)\n",
        "\n",
        "for ele in A:\n",
        "  if ele%2 != 0:\n",
        "    print(ele**2)\n",
        "    ans.append(ele**2)\n",
        "    print(ans)\n",
        "\n",
        "ans"
      ]
    },
    {
      "cell_type": "code",
      "execution_count": null,
      "metadata": {
        "colab": {
          "base_uri": "https://localhost:8080/"
        },
        "id": "VSShA2jVTiNS",
        "outputId": "db3d01cb-192c-4320-8c2f-2f9ff8ed8088"
      },
      "outputs": [
        {
          "name": "stdout",
          "output_type": "stream",
          "text": [
            "[1, 9, 25, 49, 81]\n"
          ]
        }
      ],
      "source": [
        "ans = [ele**2 for ele in A if ele%2 != 0]\n",
        "\n",
        "print(ans)"
      ]
    },
    {
      "cell_type": "markdown",
      "metadata": {
        "id": "pvrLu-d5VBqT"
      },
      "source": [
        "# Count"
      ]
    },
    {
      "cell_type": "code",
      "execution_count": null,
      "metadata": {
        "id": "jSUIwHP1T4Ms"
      },
      "outputs": [],
      "source": [
        "A = [1,2,1,4,5,6,7,7,7]"
      ]
    },
    {
      "cell_type": "code",
      "execution_count": null,
      "metadata": {
        "colab": {
          "base_uri": "https://localhost:8080/"
        },
        "id": "Ks8d0Y06VKUL",
        "outputId": "9e236ddf-a8f5-48c2-e1af-2b3b10218d1d"
      },
      "outputs": [
        {
          "data": {
            "text/plain": [
              "2"
            ]
          },
          "execution_count": 48,
          "metadata": {},
          "output_type": "execute_result"
        }
      ],
      "source": [
        "A.count(1)"
      ]
    },
    {
      "cell_type": "code",
      "execution_count": null,
      "metadata": {
        "colab": {
          "base_uri": "https://localhost:8080/"
        },
        "id": "JKN88noHVLy4",
        "outputId": "4bed5619-4a0c-4988-d417-2ee18f18de51"
      },
      "outputs": [
        {
          "data": {
            "text/plain": [
              "3"
            ]
          },
          "execution_count": 49,
          "metadata": {},
          "output_type": "execute_result"
        }
      ],
      "source": [
        "A.count(7)"
      ]
    },
    {
      "cell_type": "code",
      "execution_count": null,
      "metadata": {
        "colab": {
          "base_uri": "https://localhost:8080/"
        },
        "id": "hP5vZut9VOj7",
        "outputId": "cd2b35d1-6d7c-4064-bed3-6c2c98a7eeb7"
      },
      "outputs": [
        {
          "data": {
            "text/plain": [
              "0"
            ]
          },
          "execution_count": 50,
          "metadata": {},
          "output_type": "execute_result"
        }
      ],
      "source": [
        "A.count(7999)"
      ]
    },
    {
      "cell_type": "code",
      "execution_count": null,
      "metadata": {
        "colab": {
          "base_uri": "https://localhost:8080/"
        },
        "id": "IIMIOzOqV7qB",
        "outputId": "d43be153-438e-447f-a7cf-9e141500b8f9"
      },
      "outputs": [
        {
          "name": "stdout",
          "output_type": "stream",
          "text": [
            "1 2\n",
            "2 1\n",
            "1 2\n",
            "4 1\n",
            "5 1\n",
            "6 1\n",
            "7 3\n",
            "7 3\n",
            "7 3\n"
          ]
        }
      ],
      "source": [
        "A = [1,2,1,4,5,6,7,7,7]\n",
        "for i in A:\n",
        "  print(i, A.count(i))"
      ]
    },
    {
      "cell_type": "code",
      "execution_count": null,
      "metadata": {
        "colab": {
          "base_uri": "https://localhost:8080/"
        },
        "id": "pqb3VJkTVQoW",
        "outputId": "9e2c44c1-a9c0-455b-d2ee-a12e29c9ebcd"
      },
      "outputs": [
        {
          "data": {
            "text/plain": [
              "2"
            ]
          },
          "execution_count": 51,
          "metadata": {},
          "output_type": "execute_result"
        }
      ],
      "source": [
        "A = [1,2,1,4,5,6,[7,7],[7,7]]\n",
        "\n",
        "A.count([7,7])"
      ]
    },
    {
      "cell_type": "code",
      "execution_count": null,
      "metadata": {
        "colab": {
          "base_uri": "https://localhost:8080/"
        },
        "id": "jvSlnGs2Vl05",
        "outputId": "e7fabd5a-a5fd-4c82-a719-1fd08e6ebf30"
      },
      "outputs": [
        {
          "data": {
            "text/plain": [
              "0"
            ]
          },
          "execution_count": 52,
          "metadata": {},
          "output_type": "execute_result"
        }
      ],
      "source": [
        "A.count(7)"
      ]
    },
    {
      "cell_type": "code",
      "execution_count": null,
      "metadata": {
        "colab": {
          "base_uri": "https://localhost:8080/"
        },
        "id": "oUB5TwhtVuwr",
        "outputId": "c6552694-6609-4463-c69c-d1e730506300"
      },
      "outputs": [
        {
          "data": {
            "text/plain": [
              "2"
            ]
          },
          "execution_count": 53,
          "metadata": {},
          "output_type": "execute_result"
        }
      ],
      "source": [
        "A[-1].count(7)"
      ]
    },
    {
      "cell_type": "code",
      "execution_count": null,
      "metadata": {
        "colab": {
          "base_uri": "https://localhost:8080/"
        },
        "id": "hrwRhL5FV3Am",
        "outputId": "f5df4d42-4997-47e8-b530-8b05618daf30"
      },
      "outputs": [
        {
          "name": "stdout",
          "output_type": "stream",
          "text": [
            "S 1\n",
            "u 1\n",
            "n 2\n",
            "n 2\n",
            "y 1\n"
          ]
        }
      ],
      "source": [
        "A = \"Sunny\"\n",
        "for i in A:\n",
        "  print(i, A.count(i))"
      ]
    },
    {
      "cell_type": "code",
      "execution_count": null,
      "metadata": {
        "colab": {
          "base_uri": "https://localhost:8080/"
        },
        "id": "vFPm1vhcWP3k",
        "outputId": "1b76577e-90ff-4e75-ba94-4ab4aef5ab59"
      },
      "outputs": [
        {
          "name": "stdout",
          "output_type": "stream",
          "text": [
            "Sunny 2\n",
            "Sunny 2\n",
            "Chandra 1\n"
          ]
        }
      ],
      "source": [
        "A = [\"Sunny\", \"Sunny\", \"Chandra\"]\n",
        "for i in A:\n",
        "  print(i, A.count(i))"
      ]
    },
    {
      "cell_type": "code",
      "execution_count": null,
      "metadata": {
        "colab": {
          "base_uri": "https://localhost:8080/"
        },
        "id": "4wUXPMEjWgRq",
        "outputId": "ae8d89fb-23e6-41f1-ce79-048ffb94e796"
      },
      "outputs": [
        {
          "name": "stdout",
          "output_type": "stream",
          "text": [
            "Sunny 1\n",
            "SUNNY 1\n",
            "Chandra 1\n"
          ]
        }
      ],
      "source": [
        "A = [\"Sunny\", \"SUNNY\", \"Chandra\"]\n",
        "for i in A:\n",
        "  print(i, A.count(i))"
      ]
    },
    {
      "cell_type": "markdown",
      "metadata": {
        "id": "6u4SdWOfW07d"
      },
      "source": [
        "## Extend"
      ]
    },
    {
      "cell_type": "code",
      "execution_count": null,
      "metadata": {
        "colab": {
          "base_uri": "https://localhost:8080/"
        },
        "id": "gmNfyj1gWv8Q",
        "outputId": "22317aa4-9746-4a51-b372-25acdb8d7857"
      },
      "outputs": [
        {
          "name": "stdout",
          "output_type": "stream",
          "text": [
            "[1, 2, 3, 11, 22, 33]\n",
            "before assignment\n",
            "[1, 2, 3]\n",
            "after assignment\n",
            "[1, 2, 3, 11, 22, 33]\n"
          ]
        }
      ],
      "source": [
        "A = [1,2,3]\n",
        "\n",
        "B = [11, 22, 33]\n",
        "\n",
        "print(A + B)\n",
        "print(\"before assignment\")\n",
        "print(A)\n",
        "\n",
        "A = A + B\n",
        "print(\"after assignment\")\n",
        "print(A)"
      ]
    },
    {
      "cell_type": "code",
      "execution_count": null,
      "metadata": {
        "id": "WAeCXjIEXs5n"
      },
      "outputs": [],
      "source": []
    },
    {
      "cell_type": "code",
      "execution_count": null,
      "metadata": {
        "colab": {
          "base_uri": "https://localhost:8080/"
        },
        "id": "3YsPpfd3W71B",
        "outputId": "6ae9b9e5-fa5b-4d92-c64b-67529addd275"
      },
      "outputs": [
        {
          "data": {
            "text/plain": [
              "[1, 2, 3, 11, 22, 33]"
            ]
          },
          "execution_count": 63,
          "metadata": {},
          "output_type": "execute_result"
        }
      ],
      "source": [
        "A = [1,2,3]\n",
        "\n",
        "B = [11, 22, 33]\n",
        "\n",
        "A.extend(B) # permananet operation, inplace assignment\n",
        "\n",
        "A"
      ]
    },
    {
      "cell_type": "code",
      "execution_count": null,
      "metadata": {
        "colab": {
          "base_uri": "https://localhost:8080/"
        },
        "id": "tQzNkfqlXBLX",
        "outputId": "c3056989-6a64-40f5-a0df-567bdcef0a0c"
      },
      "outputs": [
        {
          "data": {
            "text/plain": [
              "[1, 2, 3, [11, 22, 33]]"
            ]
          },
          "execution_count": 64,
          "metadata": {},
          "output_type": "execute_result"
        }
      ],
      "source": [
        "A = [1,2,3]\n",
        "\n",
        "B = [11, 22, 33]\n",
        "\n",
        "A.append(B)  # permananet operation, inplace assignment\n",
        "\n",
        "A"
      ]
    },
    {
      "cell_type": "markdown",
      "metadata": {
        "id": "odTpsSbkYGCV"
      },
      "source": [
        "## index method"
      ]
    },
    {
      "cell_type": "code",
      "execution_count": null,
      "metadata": {
        "id": "1XSfPlUPYCF9"
      },
      "outputs": [],
      "source": [
        "A = [11, 3, 4, 56+2j, \"Sunny\", 1+2j]"
      ]
    },
    {
      "cell_type": "code",
      "execution_count": null,
      "metadata": {
        "colab": {
          "base_uri": "https://localhost:8080/"
        },
        "id": "JU7uooFIXIVP",
        "outputId": "04851b9c-8345-4e89-909e-aecaf5a3d525"
      },
      "outputs": [
        {
          "data": {
            "text/plain": [
              "0"
            ]
          },
          "execution_count": 72,
          "metadata": {},
          "output_type": "execute_result"
        }
      ],
      "source": [
        "A.index(11)"
      ]
    },
    {
      "cell_type": "code",
      "execution_count": null,
      "metadata": {
        "colab": {
          "base_uri": "https://localhost:8080/"
        },
        "id": "ztz0BNnGYYJ8",
        "outputId": "d219ce8e-7205-4bc7-a1ff-bc4ead4f35ea"
      },
      "outputs": [
        {
          "data": {
            "text/plain": [
              "4"
            ]
          },
          "execution_count": 73,
          "metadata": {},
          "output_type": "execute_result"
        }
      ],
      "source": [
        "A.index(\"Sunny\")"
      ]
    },
    {
      "cell_type": "code",
      "execution_count": null,
      "metadata": {
        "colab": {
          "base_uri": "https://localhost:8080/"
        },
        "id": "ve2nc8XkYa3Z",
        "outputId": "2293adf4-7885-4b76-bb3a-260c33075c88"
      },
      "outputs": [
        {
          "name": "stdout",
          "output_type": "stream",
          "text": [
            "Element: (56+2j) | Type: <class 'complex'> | Index: 3\n",
            "Element: (1+2j) | Type: <class 'complex'> | Index: 5\n"
          ]
        }
      ],
      "source": [
        "# print the index of all the complex nos.\n",
        "# do a for loop\n",
        "# if condition for type check\n",
        "# if type is complex then print the index\n",
        "\n",
        "for ele in A:\n",
        "  if type(ele) == complex:\n",
        "    print(f\"Element: {ele} | Type: {type(ele)} | Index: {A.index(ele)}\")"
      ]
    },
    {
      "cell_type": "code",
      "execution_count": null,
      "metadata": {
        "colab": {
          "base_uri": "https://localhost:8080/"
        },
        "id": "_0_WMK2mZG0c",
        "outputId": "3c4df57a-ed4e-4645-b7c6-b2048ca942ea"
      },
      "outputs": [
        {
          "name": "stdout",
          "output_type": "stream",
          "text": [
            "Element: 11 | Type: <class 'int'> | Index: 0\n",
            "Element: 3 | Type: <class 'int'> | Index: 1\n",
            "Element: 4 | Type: <class 'int'> | Index: 2\n"
          ]
        }
      ],
      "source": [
        "for ele in A:\n",
        "  if type(ele) == int:\n",
        "    print(f\"Element: {ele} | Type: {type(ele)} | Index: {A.index(ele)}\")"
      ]
    },
    {
      "cell_type": "code",
      "execution_count": null,
      "metadata": {
        "colab": {
          "base_uri": "https://localhost:8080/"
        },
        "id": "wEP6DG70ZtXf",
        "outputId": "253180d1-b4b6-4634-9222-37a831f8e1ae"
      },
      "outputs": [
        {
          "name": "stdout",
          "output_type": "stream",
          "text": [
            "Element: Sunny | Type: <class 'str'> | Index: 4\n"
          ]
        }
      ],
      "source": [
        "for ele in A:\n",
        "  if type(ele) == str:\n",
        "    print(f\"Element: {ele} | Type: {type(ele)} | Index: {A.index(ele)}\")"
      ]
    },
    {
      "cell_type": "markdown",
      "metadata": {
        "id": "ClKh01eKaPAM"
      },
      "source": [
        "## isinstance"
      ]
    },
    {
      "cell_type": "code",
      "execution_count": null,
      "metadata": {
        "colab": {
          "base_uri": "https://localhost:8080/"
        },
        "id": "37cMAphHZv6R",
        "outputId": "dd8492ec-b028-426c-f739-2a25fb205b09"
      },
      "outputs": [
        {
          "name": "stdout",
          "output_type": "stream",
          "text": [
            "Element: (56+2j) | Type: <class 'complex'> | Index: 3\n",
            "Element: (1+2j) | Type: <class 'complex'> | Index: 5\n"
          ]
        }
      ],
      "source": [
        "\n",
        "for ele in A:\n",
        "  if isinstance(ele, complex):\n",
        "    print(f\"Element: {ele} | Type: {type(ele)} | Index: {A.index(ele)}\")"
      ]
    },
    {
      "cell_type": "code",
      "execution_count": null,
      "metadata": {
        "colab": {
          "base_uri": "https://localhost:8080/"
        },
        "id": "3h-QisQEbRgK",
        "outputId": "69ecfa58-52bd-443c-d345-17d7ef5836bb"
      },
      "outputs": [
        {
          "data": {
            "text/plain": [
              "[(56+2j), (1+2j)]"
            ]
          },
          "execution_count": 90,
          "metadata": {},
          "output_type": "execute_result"
        }
      ],
      "source": [
        "ans = [ele for ele in A if isinstance(ele, complex)]\n",
        "ans"
      ]
    },
    {
      "cell_type": "code",
      "execution_count": null,
      "metadata": {
        "colab": {
          "base_uri": "https://localhost:8080/"
        },
        "id": "VNwP7l1BbbYr",
        "outputId": "09f33f23-1960-4581-ccdd-5e1ff9e89a99"
      },
      "outputs": [
        {
          "data": {
            "text/plain": [
              "[(56+2j), (1+2j)]"
            ]
          },
          "execution_count": 92,
          "metadata": {},
          "output_type": "execute_result"
        }
      ],
      "source": [
        "ans = [ele for ele in A if type(ele)==complex]\n",
        "ans"
      ]
    },
    {
      "cell_type": "code",
      "execution_count": null,
      "metadata": {
        "id": "pvW1Wx6Zbmcq"
      },
      "outputs": [],
      "source": [
        "# ele for ele in A if type(ele)==complex"
      ]
    },
    {
      "cell_type": "code",
      "execution_count": null,
      "metadata": {
        "colab": {
          "base_uri": "https://localhost:8080/"
        },
        "id": "LS9U2j-BaXQc",
        "outputId": "474b4dd1-8489-407b-bbff-cbaa73fbee65"
      },
      "outputs": [
        {
          "name": "stdout",
          "output_type": "stream",
          "text": [
            "Element: 11 | Type: <class 'int'> | Index: 0\n",
            "Element: 3 | Type: <class 'int'> | Index: 1\n",
            "Element: 4 | Type: <class 'int'> | Index: 2\n",
            "Element: (56+2j) | Type: <class 'complex'> | Index: 3\n",
            "Element: (1+2j) | Type: <class 'complex'> | Index: 5\n"
          ]
        }
      ],
      "source": [
        "# print the index all the complex or int also\n",
        "\n",
        "for ele in A:\n",
        "  if isinstance(ele, complex) or isinstance(ele, int):\n",
        "    print(f\"Element: {ele} | Type: {type(ele)} | Index: {A.index(ele)}\")"
      ]
    },
    {
      "cell_type": "code",
      "execution_count": null,
      "metadata": {
        "colab": {
          "base_uri": "https://localhost:8080/"
        },
        "id": "e2KSSy54awrs",
        "outputId": "9a0899a7-4e5b-4129-a709-0966fa953c55"
      },
      "outputs": [
        {
          "name": "stdout",
          "output_type": "stream",
          "text": [
            "Element: 11 | Type: <class 'int'> | Index: 0\n",
            "Element: 3 | Type: <class 'int'> | Index: 1\n",
            "Element: 4 | Type: <class 'int'> | Index: 2\n",
            "Element: (56+2j) | Type: <class 'complex'> | Index: 3\n",
            "Element: (1+2j) | Type: <class 'complex'> | Index: 5\n"
          ]
        }
      ],
      "source": [
        "# print the index all the complex or int also\n",
        "\n",
        "for ele in A:\n",
        "  if isinstance(ele, (complex, int)): # pythonic way  # OR case\n",
        "    print(f\"Element: {ele} | Type: {type(ele)} | Index: {A.index(ele)}\")"
      ]
    },
    {
      "cell_type": "code",
      "execution_count": null,
      "metadata": {
        "colab": {
          "base_uri": "https://localhost:8080/"
        },
        "id": "CKlhDTr3a11x",
        "outputId": "f58b9fc7-f500-4250-dfd8-17e20ec19ada"
      },
      "outputs": [
        {
          "data": {
            "text/plain": [
              "1"
            ]
          },
          "execution_count": 99,
          "metadata": {},
          "output_type": "execute_result"
        }
      ],
      "source": [
        "A = [11, 3, 4, 56+2j, \"Sunny\", 1+2j, 3, 3] # duplicate elements\n",
        "\n",
        "A.index(3)"
      ]
    },
    {
      "cell_type": "code",
      "execution_count": null,
      "metadata": {
        "colab": {
          "base_uri": "https://localhost:8080/"
        },
        "id": "cWAvRFbLcGHL",
        "outputId": "73d5d16b-3d4d-4286-bbf2-1b1df11c8025"
      },
      "outputs": [
        {
          "data": {
            "text/plain": [
              "2"
            ]
          },
          "execution_count": 100,
          "metadata": {},
          "output_type": "execute_result"
        }
      ],
      "source": [
        "A = [11, \"xyz\", 3, 4, 56+2j, \"Sunny\", 1+2j, 3, 3] # duplicate elements\n",
        "\n",
        "A.index(3)"
      ]
    },
    {
      "cell_type": "code",
      "execution_count": null,
      "metadata": {
        "colab": {
          "base_uri": "https://localhost:8080/",
          "height": 201
        },
        "id": "DjfHvU4xfVWv",
        "outputId": "a5c926a5-9eb2-4958-eac3-4a9f1fdd8a15"
      },
      "outputs": [
        {
          "ename": "ValueError",
          "evalue": "ignored",
          "output_type": "error",
          "traceback": [
            "\u001b[0;31m---------------------------------------------------------------------------\u001b[0m",
            "\u001b[0;31mValueError\u001b[0m                                Traceback (most recent call last)",
            "\u001b[0;32m<ipython-input-103-f73e1746a978>\u001b[0m in \u001b[0;36m<module>\u001b[0;34m\u001b[0m\n\u001b[1;32m      1\u001b[0m \u001b[0mA\u001b[0m \u001b[0;34m=\u001b[0m \u001b[0;34m[\u001b[0m\u001b[0;36m11\u001b[0m\u001b[0;34m,\u001b[0m \u001b[0;34m\"xyz\"\u001b[0m\u001b[0;34m,\u001b[0m \u001b[0;36m3\u001b[0m\u001b[0;34m,\u001b[0m \u001b[0;36m4\u001b[0m\u001b[0;34m,\u001b[0m \u001b[0;36m56\u001b[0m\u001b[0;34m+\u001b[0m\u001b[0;36m2j\u001b[0m\u001b[0;34m,\u001b[0m \u001b[0;34m\"Sunny\"\u001b[0m\u001b[0;34m,\u001b[0m \u001b[0;36m1\u001b[0m\u001b[0;34m+\u001b[0m\u001b[0;36m2j\u001b[0m\u001b[0;34m,\u001b[0m \u001b[0;36m3\u001b[0m\u001b[0;34m,\u001b[0m \u001b[0;36m3\u001b[0m\u001b[0;34m]\u001b[0m \u001b[0;31m# duplicate elements\u001b[0m\u001b[0;34m\u001b[0m\u001b[0;34m\u001b[0m\u001b[0m\n\u001b[1;32m      2\u001b[0m \u001b[0;34m\u001b[0m\u001b[0m\n\u001b[0;32m----> 3\u001b[0;31m \u001b[0mA\u001b[0m\u001b[0;34m.\u001b[0m\u001b[0mindex\u001b[0m\u001b[0;34m(\u001b[0m\u001b[0;36m4444444\u001b[0m\u001b[0;34m)\u001b[0m\u001b[0;34m\u001b[0m\u001b[0;34m\u001b[0m\u001b[0m\n\u001b[0m",
            "\u001b[0;31mValueError\u001b[0m: 4444444 is not in list"
          ]
        }
      ],
      "source": [
        "A = [11, \"xyz\", 3, 4, 56+2j, \"Sunny\", 1+2j, 3, 3] # duplicate elements\n",
        "\n",
        "A.index(4444444)"
      ]
    },
    {
      "cell_type": "code",
      "execution_count": null,
      "metadata": {
        "colab": {
          "base_uri": "https://localhost:8080/",
          "height": 201
        },
        "id": "isbNQyXTe_9M",
        "outputId": "aa2e831d-c9e2-49e7-ab94-4189567d94f2"
      },
      "outputs": [
        {
          "ename": "ValueError",
          "evalue": "ignored",
          "output_type": "error",
          "traceback": [
            "\u001b[0;31m---------------------------------------------------------------------------\u001b[0m",
            "\u001b[0;31mValueError\u001b[0m                                Traceback (most recent call last)",
            "\u001b[0;32m<ipython-input-101-3dd9929c0410>\u001b[0m in \u001b[0;36m<module>\u001b[0;34m\u001b[0m\n\u001b[1;32m      1\u001b[0m \u001b[0mA\u001b[0m \u001b[0;34m=\u001b[0m \u001b[0;34m[\u001b[0m\u001b[0;36m1\u001b[0m\u001b[0;34m,\u001b[0m \u001b[0;36m2\u001b[0m\u001b[0;34m,\u001b[0m \u001b[0;36m3\u001b[0m\u001b[0;34m,\u001b[0m \u001b[0;34m[\u001b[0m\u001b[0;36m4\u001b[0m\u001b[0;34m,\u001b[0m\u001b[0;36m5\u001b[0m\u001b[0;34m,\u001b[0m\u001b[0;36m6\u001b[0m\u001b[0;34m]\u001b[0m\u001b[0;34m,\u001b[0m \u001b[0;36m7\u001b[0m\u001b[0;34m,\u001b[0m\u001b[0;36m8\u001b[0m\u001b[0;34m,\u001b[0m\u001b[0;36m9\u001b[0m\u001b[0;34m]\u001b[0m\u001b[0;34m\u001b[0m\u001b[0;34m\u001b[0m\u001b[0m\n\u001b[1;32m      2\u001b[0m \u001b[0;34m\u001b[0m\u001b[0m\n\u001b[0;32m----> 3\u001b[0;31m \u001b[0mA\u001b[0m\u001b[0;34m.\u001b[0m\u001b[0mindex\u001b[0m\u001b[0;34m(\u001b[0m\u001b[0;36m4\u001b[0m\u001b[0;34m)\u001b[0m \u001b[0;31m# sir its showing value Error\u001b[0m\u001b[0;34m\u001b[0m\u001b[0;34m\u001b[0m\u001b[0m\n\u001b[0m",
            "\u001b[0;31mValueError\u001b[0m: 4 is not in list"
          ]
        }
      ],
      "source": [
        "A = [1, 2, 3, [4,5,6], 7,8,9]\n",
        "\n",
        "A.index(4) # sir its showing value Error\n"
      ]
    },
    {
      "cell_type": "code",
      "execution_count": null,
      "metadata": {
        "colab": {
          "base_uri": "https://localhost:8080/"
        },
        "id": "B_Xcldo6fT7N",
        "outputId": "50ffa964-9cf4-459e-b034-d5c1c0dfc3e6"
      },
      "outputs": [
        {
          "data": {
            "text/plain": [
              "3"
            ]
          },
          "execution_count": 104,
          "metadata": {},
          "output_type": "execute_result"
        }
      ],
      "source": [
        "A = [1, 2, 3, [4,5,6], 7,8,9]\n",
        "\n",
        "A.index([4,5,6]) # sir its showing value Error\n"
      ]
    },
    {
      "cell_type": "code",
      "execution_count": null,
      "metadata": {
        "colab": {
          "base_uri": "https://localhost:8080/"
        },
        "id": "hJWwWni_fJo5",
        "outputId": "59e60f9d-d6f7-412c-c0c1-d22881c6ed5e"
      },
      "outputs": [
        {
          "data": {
            "text/plain": [
              "0"
            ]
          },
          "execution_count": 102,
          "metadata": {},
          "output_type": "execute_result"
        }
      ],
      "source": [
        "A = [1, 2, 3, [4,5,6], 7,8,9]\n",
        "\n",
        "A[3].index(4) # sir its showing value Error"
      ]
    },
    {
      "cell_type": "markdown",
      "metadata": {
        "id": "dVVV772Kfsm3"
      },
      "source": [
        "## insert"
      ]
    },
    {
      "cell_type": "code",
      "execution_count": null,
      "metadata": {
        "colab": {
          "base_uri": "https://localhost:8080/"
        },
        "id": "hoMdZ0gffRBN",
        "outputId": "1eed5398-5309-48ee-be59-956f2e457b88"
      },
      "outputs": [
        {
          "data": {
            "text/plain": [
              "[1, 2, 3, 4, 5, 99]"
            ]
          },
          "execution_count": 106,
          "metadata": {},
          "output_type": "execute_result"
        }
      ],
      "source": [
        "A = [1,2,3,4,5]\n",
        "\n",
        "A.append(99)\n",
        "A"
      ]
    },
    {
      "cell_type": "code",
      "execution_count": null,
      "metadata": {
        "colab": {
          "base_uri": "https://localhost:8080/"
        },
        "id": "P1lB_vnBf7iv",
        "outputId": "83c40658-35d2-4942-ba55-b860e45c0dd6"
      },
      "outputs": [
        {
          "data": {
            "text/plain": [
              "[1, 2, 'Sunny', 3, 4, 5, 99]"
            ]
          },
          "execution_count": 107,
          "metadata": {},
          "output_type": "execute_result"
        }
      ],
      "source": [
        "A.insert(2, \"Sunny\")\n",
        "\n",
        "A"
      ]
    },
    {
      "cell_type": "code",
      "execution_count": null,
      "metadata": {
        "colab": {
          "base_uri": "https://localhost:8080/"
        },
        "id": "XwXcOQ2hgFH5",
        "outputId": "7ef9dbdf-57b1-4670-d950-0890a691eadb"
      },
      "outputs": [
        {
          "data": {
            "text/plain": [
              "[1, 2, 'Sunny', 3, 4, 5, 99, 'Sunny']"
            ]
          },
          "execution_count": 108,
          "metadata": {},
          "output_type": "execute_result"
        }
      ],
      "source": [
        "A.insert(2000, \"Sunny\")\n",
        "\n",
        "A"
      ]
    },
    {
      "cell_type": "code",
      "execution_count": null,
      "metadata": {
        "colab": {
          "base_uri": "https://localhost:8080/",
          "height": 167
        },
        "id": "8YOcymasgf6s",
        "outputId": "dc906581-dec0-4590-b813-5991d87af912"
      },
      "outputs": [
        {
          "ename": "IndexError",
          "evalue": "ignored",
          "output_type": "error",
          "traceback": [
            "\u001b[0;31m---------------------------------------------------------------------------\u001b[0m",
            "\u001b[0;31mIndexError\u001b[0m                                Traceback (most recent call last)",
            "\u001b[0;32m<ipython-input-110-87ca268cd0df>\u001b[0m in \u001b[0;36m<module>\u001b[0;34m\u001b[0m\n\u001b[0;32m----> 1\u001b[0;31m \u001b[0mA\u001b[0m\u001b[0;34m[\u001b[0m\u001b[0;36m2000\u001b[0m\u001b[0;34m]\u001b[0m\u001b[0;34m\u001b[0m\u001b[0;34m\u001b[0m\u001b[0m\n\u001b[0m",
            "\u001b[0;31mIndexError\u001b[0m: list index out of range"
          ]
        }
      ],
      "source": [
        "A[2000]"
      ]
    },
    {
      "cell_type": "code",
      "execution_count": null,
      "metadata": {
        "colab": {
          "base_uri": "https://localhost:8080/"
        },
        "id": "o7V7jbPrgNNF",
        "outputId": "7a9a037f-2c4f-4cfc-ff7f-f736d9cfe49e"
      },
      "outputs": [
        {
          "data": {
            "text/plain": [
              "['Sunny', 1, 2, 'Sunny', 3, 4, 5, 99, 'Sunny']"
            ]
          },
          "execution_count": 109,
          "metadata": {},
          "output_type": "execute_result"
        }
      ],
      "source": [
        "A.insert(-2000, \"Sunny\")\n",
        "\n",
        "A"
      ]
    },
    {
      "cell_type": "code",
      "execution_count": null,
      "metadata": {
        "id": "E20KxS3CgUdb"
      },
      "outputs": [],
      "source": [
        "A[2000]"
      ]
    },
    {
      "cell_type": "code",
      "execution_count": null,
      "metadata": {
        "colab": {
          "base_uri": "https://localhost:8080/"
        },
        "id": "BD6oh13egosN",
        "outputId": "822f93e1-bfde-4d03-d6f8-01dbe3410641"
      },
      "outputs": [
        {
          "data": {
            "text/plain": [
              "3"
            ]
          },
          "execution_count": 111,
          "metadata": {},
          "output_type": "execute_result"
        }
      ],
      "source": [
        "A = [3,4,5]\n",
        "\n",
        "len(A)"
      ]
    },
    {
      "cell_type": "code",
      "execution_count": null,
      "metadata": {
        "colab": {
          "base_uri": "https://localhost:8080/"
        },
        "id": "OmPQWipWgruU",
        "outputId": "09cf2ded-aa17-492a-efd4-06379df5e78d"
      },
      "outputs": [
        {
          "data": {
            "text/plain": [
              "4"
            ]
          },
          "execution_count": 112,
          "metadata": {},
          "output_type": "execute_result"
        }
      ],
      "source": [
        "A.insert(2, \"Sunny\")\n",
        "\n",
        "len(A)"
      ]
    },
    {
      "cell_type": "code",
      "execution_count": null,
      "metadata": {
        "colab": {
          "base_uri": "https://localhost:8080/"
        },
        "id": "0LVpvrCng0di",
        "outputId": "319ae7ca-a52f-4880-f4da-cbb2f6e097cd"
      },
      "outputs": [
        {
          "data": {
            "text/plain": [
              "5"
            ]
          },
          "execution_count": 113,
          "metadata": {},
          "output_type": "execute_result"
        }
      ],
      "source": [
        "A.insert(2000, \"Sunny\")\n",
        "\n",
        "len(A)"
      ]
    },
    {
      "cell_type": "code",
      "execution_count": null,
      "metadata": {
        "colab": {
          "base_uri": "https://localhost:8080/",
          "height": 132
        },
        "id": "whi8wmcGg4wY",
        "outputId": "8e5b9414-b6bc-4a8d-97f6-4e0ccc801c82"
      },
      "outputs": [
        {
          "ename": "SyntaxError",
          "evalue": "ignored",
          "output_type": "error",
          "traceback": [
            "\u001b[0;36m  File \u001b[0;32m\"<ipython-input-114-efdd8d250346>\"\u001b[0;36m, line \u001b[0;32m1\u001b[0m\n\u001b[0;31m    A.insert(, \"Sunny\")\u001b[0m\n\u001b[0m             ^\u001b[0m\n\u001b[0;31mSyntaxError\u001b[0m\u001b[0;31m:\u001b[0m invalid syntax\n"
          ]
        }
      ],
      "source": [
        "A.insert(, \"Sunny\")\n",
        "\n",
        "len(A)"
      ]
    },
    {
      "cell_type": "code",
      "execution_count": null,
      "metadata": {
        "colab": {
          "base_uri": "https://localhost:8080/",
          "height": 201
        },
        "id": "WHdTU4Whg_RC",
        "outputId": "8e99da61-69bf-4720-aaa1-88a36780d007"
      },
      "outputs": [
        {
          "ename": "TypeError",
          "evalue": "ignored",
          "output_type": "error",
          "traceback": [
            "\u001b[0;31m---------------------------------------------------------------------------\u001b[0m",
            "\u001b[0;31mTypeError\u001b[0m                                 Traceback (most recent call last)",
            "\u001b[0;32m<ipython-input-115-09e0862fef18>\u001b[0m in \u001b[0;36m<module>\u001b[0;34m\u001b[0m\n\u001b[0;32m----> 1\u001b[0;31m \u001b[0mA\u001b[0m\u001b[0;34m.\u001b[0m\u001b[0minsert\u001b[0m\u001b[0;34m(\u001b[0m\u001b[0;34m\"Sunny\"\u001b[0m\u001b[0;34m)\u001b[0m\u001b[0;34m\u001b[0m\u001b[0;34m\u001b[0m\u001b[0m\n\u001b[0m\u001b[1;32m      2\u001b[0m \u001b[0;34m\u001b[0m\u001b[0m\n\u001b[1;32m      3\u001b[0m \u001b[0mlen\u001b[0m\u001b[0;34m(\u001b[0m\u001b[0mA\u001b[0m\u001b[0;34m)\u001b[0m\u001b[0;34m\u001b[0m\u001b[0;34m\u001b[0m\u001b[0m\n",
            "\u001b[0;31mTypeError\u001b[0m: insert() takes exactly 2 arguments (1 given)"
          ]
        }
      ],
      "source": [
        "A.insert(\"Sunny\")\n",
        "\n",
        "len(A)"
      ]
    },
    {
      "cell_type": "code",
      "execution_count": null,
      "metadata": {
        "colab": {
          "base_uri": "https://localhost:8080/"
        },
        "id": "1nxNaSCshC5a",
        "outputId": "ff91fd35-6994-47ac-9af7-4aa5fc35f5a2"
      },
      "outputs": [
        {
          "data": {
            "text/plain": [
              "[3, 4, 'Sunny', 5, 'Sunny']"
            ]
          },
          "execution_count": 116,
          "metadata": {},
          "output_type": "execute_result"
        }
      ],
      "source": [
        "A"
      ]
    },
    {
      "cell_type": "code",
      "execution_count": null,
      "metadata": {
        "colab": {
          "base_uri": "https://localhost:8080/"
        },
        "id": "hr4ElIG-hOrM",
        "outputId": "3abd16ce-dbeb-4205-f7a7-4ae89323bf2e"
      },
      "outputs": [
        {
          "data": {
            "text/plain": [
              "[3, 4, [1, 2, 34], 'Sunny', 5, 'Sunny']"
            ]
          },
          "execution_count": 117,
          "metadata": {},
          "output_type": "execute_result"
        }
      ],
      "source": [
        "\n",
        "A.insert(2, [1,2,34])\n",
        "\n",
        "A"
      ]
    },
    {
      "cell_type": "markdown",
      "metadata": {
        "id": "4-hwlIWtiJbB"
      },
      "source": [
        "## remove"
      ]
    },
    {
      "cell_type": "code",
      "execution_count": null,
      "metadata": {
        "colab": {
          "base_uri": "https://localhost:8080/"
        },
        "id": "TsjTFuq9hVs4",
        "outputId": "e3bf64ee-bf08-4416-8f78-77b3a816914a"
      },
      "outputs": [
        {
          "data": {
            "text/plain": [
              "[1, 2, 3, 6, 77]"
            ]
          },
          "execution_count": 118,
          "metadata": {},
          "output_type": "execute_result"
        }
      ],
      "source": [
        "A = [1,2,3,455, 6, 77]\n",
        "\n",
        "A.remove(455)\n",
        "\n",
        "A"
      ]
    },
    {
      "cell_type": "code",
      "execution_count": null,
      "metadata": {
        "colab": {
          "base_uri": "https://localhost:8080/"
        },
        "id": "S06fnCsjiTOr",
        "outputId": "1907f9a2-b7d0-4340-c79d-08e60448c878"
      },
      "outputs": [
        {
          "data": {
            "text/plain": [
              "[1, 2, 3, 455, 6]"
            ]
          },
          "execution_count": 119,
          "metadata": {},
          "output_type": "execute_result"
        }
      ],
      "source": [
        "A = [1,2,3,455, 6, 77]\n",
        "\n",
        "A.remove(77)\n",
        "\n",
        "A"
      ]
    },
    {
      "cell_type": "code",
      "execution_count": null,
      "metadata": {
        "colab": {
          "base_uri": "https://localhost:8080/"
        },
        "id": "EIuKFc2IiV8s",
        "outputId": "587b8c18-df24-4b9d-d081-6b6f78b32426"
      },
      "outputs": [
        {
          "data": {
            "text/plain": [
              "[1, 2, 3, 455, 6, 77]"
            ]
          },
          "execution_count": 120,
          "metadata": {},
          "output_type": "execute_result"
        }
      ],
      "source": [
        "A = [1,1,2,3,455, 6, 77]\n",
        "\n",
        "A.remove(1)\n",
        "\n",
        "A"
      ]
    },
    {
      "cell_type": "code",
      "execution_count": null,
      "metadata": {
        "colab": {
          "base_uri": "https://localhost:8080/"
        },
        "id": "DQu2PZjsifPT",
        "outputId": "fbe680ce-c9ae-43b8-cb79-448a98167f00"
      },
      "outputs": [
        {
          "data": {
            "text/plain": [
              "[1, 1, 2, 3, 455, 88, 6, 77]"
            ]
          },
          "execution_count": 121,
          "metadata": {},
          "output_type": "execute_result"
        }
      ],
      "source": [
        "A = [1,1,2,3,455, 6, 88, 6, 77]\n",
        "\n",
        "A.remove(6)\n",
        "\n",
        "A"
      ]
    },
    {
      "cell_type": "code",
      "execution_count": null,
      "metadata": {
        "colab": {
          "base_uri": "https://localhost:8080/",
          "height": 236
        },
        "id": "xqEu258YinNT",
        "outputId": "8720943f-8153-4525-d857-cd24923bb3d4"
      },
      "outputs": [
        {
          "ename": "ValueError",
          "evalue": "ignored",
          "output_type": "error",
          "traceback": [
            "\u001b[0;31m---------------------------------------------------------------------------\u001b[0m",
            "\u001b[0;31mValueError\u001b[0m                                Traceback (most recent call last)",
            "\u001b[0;32m<ipython-input-122-6daa65ffcf57>\u001b[0m in \u001b[0;36m<module>\u001b[0;34m\u001b[0m\n\u001b[1;32m      1\u001b[0m \u001b[0mA\u001b[0m \u001b[0;34m=\u001b[0m \u001b[0;34m[\u001b[0m\u001b[0;36m1\u001b[0m\u001b[0;34m,\u001b[0m\u001b[0;36m1\u001b[0m\u001b[0;34m,\u001b[0m\u001b[0;36m2\u001b[0m\u001b[0;34m,\u001b[0m\u001b[0;36m3\u001b[0m\u001b[0;34m,\u001b[0m\u001b[0;36m455\u001b[0m\u001b[0;34m,\u001b[0m \u001b[0;36m6\u001b[0m\u001b[0;34m,\u001b[0m \u001b[0;36m88\u001b[0m\u001b[0;34m,\u001b[0m \u001b[0;36m6\u001b[0m\u001b[0;34m,\u001b[0m \u001b[0;36m77\u001b[0m\u001b[0;34m]\u001b[0m\u001b[0;34m\u001b[0m\u001b[0;34m\u001b[0m\u001b[0m\n\u001b[1;32m      2\u001b[0m \u001b[0;34m\u001b[0m\u001b[0m\n\u001b[0;32m----> 3\u001b[0;31m \u001b[0mA\u001b[0m\u001b[0;34m.\u001b[0m\u001b[0mremove\u001b[0m\u001b[0;34m(\u001b[0m\u001b[0;36m9999\u001b[0m\u001b[0;34m)\u001b[0m\u001b[0;34m\u001b[0m\u001b[0;34m\u001b[0m\u001b[0m\n\u001b[0m\u001b[1;32m      4\u001b[0m \u001b[0;34m\u001b[0m\u001b[0m\n\u001b[1;32m      5\u001b[0m \u001b[0mA\u001b[0m\u001b[0;34m\u001b[0m\u001b[0;34m\u001b[0m\u001b[0m\n",
            "\u001b[0;31mValueError\u001b[0m: list.remove(x): x not in list"
          ]
        }
      ],
      "source": [
        "A = [1,1,2,3,455, 6, 88, 6, 77]\n",
        "\n",
        "A.remove(9999)\n",
        "\n",
        "A"
      ]
    },
    {
      "cell_type": "code",
      "execution_count": null,
      "metadata": {
        "colab": {
          "base_uri": "https://localhost:8080/"
        },
        "id": "9oiIW7Cairx-",
        "outputId": "7538c73b-cfa4-45b3-d18e-c4191e2e8857"
      },
      "outputs": [
        {
          "data": {
            "text/plain": [
              "77"
            ]
          },
          "execution_count": 123,
          "metadata": {},
          "output_type": "execute_result"
        }
      ],
      "source": [
        "A.pop(-1)"
      ]
    },
    {
      "cell_type": "code",
      "execution_count": null,
      "metadata": {
        "colab": {
          "base_uri": "https://localhost:8080/"
        },
        "id": "Z8lgNZcYjBtb",
        "outputId": "0d6801f2-8886-4a73-afb1-7af7f80cf9c0"
      },
      "outputs": [
        {
          "data": {
            "text/plain": [
              "6"
            ]
          },
          "execution_count": 124,
          "metadata": {},
          "output_type": "execute_result"
        }
      ],
      "source": [
        "A.pop() # this removes the last element"
      ]
    },
    {
      "cell_type": "markdown",
      "metadata": {
        "id": "_UKbp8mckNN2"
      },
      "source": [
        "# TUPLES - () - immutable\n",
        "list = [] - mutable\n"
      ]
    },
    {
      "cell_type": "code",
      "execution_count": null,
      "metadata": {
        "id": "czwSKappjLGQ"
      },
      "outputs": [],
      "source": [
        "A = (1,2,3)"
      ]
    },
    {
      "cell_type": "code",
      "execution_count": null,
      "metadata": {
        "colab": {
          "base_uri": "https://localhost:8080/"
        },
        "id": "5sFHEOvXkoY9",
        "outputId": "3224e75b-45b2-45d8-ad37-35635cce6afc"
      },
      "outputs": [
        {
          "data": {
            "text/plain": [
              "tuple"
            ]
          },
          "execution_count": 126,
          "metadata": {},
          "output_type": "execute_result"
        }
      ],
      "source": [
        "type(A)"
      ]
    },
    {
      "cell_type": "code",
      "execution_count": null,
      "metadata": {
        "colab": {
          "base_uri": "https://localhost:8080/"
        },
        "id": "KVxKlZBFkp_4",
        "outputId": "5fea8d6d-f04e-4888-ee57-126a02f30006"
      },
      "outputs": [
        {
          "data": {
            "text/plain": [
              "1"
            ]
          },
          "execution_count": 127,
          "metadata": {},
          "output_type": "execute_result"
        }
      ],
      "source": [
        "A[0]"
      ]
    },
    {
      "cell_type": "code",
      "execution_count": null,
      "metadata": {
        "colab": {
          "base_uri": "https://localhost:8080/"
        },
        "id": "56lqcpX4kwR5",
        "outputId": "c5d39053-9cae-43e0-a258-ea4905ab0eaa"
      },
      "outputs": [
        {
          "data": {
            "text/plain": [
              "3"
            ]
          },
          "execution_count": 128,
          "metadata": {},
          "output_type": "execute_result"
        }
      ],
      "source": [
        "A[-1]"
      ]
    },
    {
      "cell_type": "code",
      "execution_count": null,
      "metadata": {
        "colab": {
          "base_uri": "https://localhost:8080/",
          "height": 167
        },
        "id": "yOJxYsUAkycv",
        "outputId": "7274f7cd-6d5c-4c93-83b7-3ceaa18eb5ca"
      },
      "outputs": [
        {
          "ename": "TypeError",
          "evalue": "ignored",
          "output_type": "error",
          "traceback": [
            "\u001b[0;31m---------------------------------------------------------------------------\u001b[0m",
            "\u001b[0;31mTypeError\u001b[0m                                 Traceback (most recent call last)",
            "\u001b[0;32m<ipython-input-129-2b4b93e4b445>\u001b[0m in \u001b[0;36m<module>\u001b[0;34m\u001b[0m\n\u001b[0;32m----> 1\u001b[0;31m \u001b[0mA\u001b[0m\u001b[0;34m[\u001b[0m\u001b[0;36m0\u001b[0m\u001b[0;34m]\u001b[0m \u001b[0;34m=\u001b[0m \u001b[0;36m22\u001b[0m\u001b[0;34m\u001b[0m\u001b[0;34m\u001b[0m\u001b[0m\n\u001b[0m",
            "\u001b[0;31mTypeError\u001b[0m: 'tuple' object does not support item assignment"
          ]
        }
      ],
      "source": [
        "A[0] = 22"
      ]
    },
    {
      "cell_type": "code",
      "execution_count": null,
      "metadata": {
        "id": "0b14RjZMk1nU"
      },
      "outputs": [],
      "source": [
        "A = (22, 12, 34, 1)\n"
      ]
    },
    {
      "cell_type": "code",
      "execution_count": null,
      "metadata": {
        "colab": {
          "base_uri": "https://localhost:8080/",
          "height": 201
        },
        "id": "DtrF0FWClF7f",
        "outputId": "7e9c59e9-2a43-4fe5-afe9-9e0a384d75c0"
      },
      "outputs": [
        {
          "ename": "AttributeError",
          "evalue": "ignored",
          "output_type": "error",
          "traceback": [
            "\u001b[0;31m---------------------------------------------------------------------------\u001b[0m",
            "\u001b[0;31mAttributeError\u001b[0m                            Traceback (most recent call last)",
            "\u001b[0;32m<ipython-input-131-e20f77e0d09c>\u001b[0m in \u001b[0;36m<module>\u001b[0;34m\u001b[0m\n\u001b[0;32m----> 1\u001b[0;31m \u001b[0mA\u001b[0m\u001b[0;34m.\u001b[0m\u001b[0msort\u001b[0m\u001b[0;34m(\u001b[0m\u001b[0;34m)\u001b[0m\u001b[0;34m\u001b[0m\u001b[0;34m\u001b[0m\u001b[0m\n\u001b[0m\u001b[1;32m      2\u001b[0m \u001b[0;34m\u001b[0m\u001b[0m\n\u001b[1;32m      3\u001b[0m \u001b[0mA\u001b[0m\u001b[0;34m\u001b[0m\u001b[0;34m\u001b[0m\u001b[0m\n",
            "\u001b[0;31mAttributeError\u001b[0m: 'tuple' object has no attribute 'sort'"
          ]
        }
      ],
      "source": [
        "A.sort()\n",
        "\n",
        "A"
      ]
    },
    {
      "cell_type": "code",
      "execution_count": null,
      "metadata": {
        "colab": {
          "base_uri": "https://localhost:8080/"
        },
        "id": "ekeo_bvGlHea",
        "outputId": "ce11b365-804f-4805-967d-925b78b3a32a"
      },
      "outputs": [
        {
          "data": {
            "text/plain": [
              "[1, 12, 22, 34]"
            ]
          },
          "execution_count": 133,
          "metadata": {},
          "output_type": "execute_result"
        }
      ],
      "source": [
        "sorted(A) # convert it into list and then return the sorted list"
      ]
    },
    {
      "cell_type": "code",
      "execution_count": null,
      "metadata": {
        "colab": {
          "base_uri": "https://localhost:8080/"
        },
        "id": "fHDYPUOflST-",
        "outputId": "77dfe0dd-b11c-4dcb-fcfb-8eea7a70f024"
      },
      "outputs": [
        {
          "data": {
            "text/plain": [
              "[1, 12, 22, 34]"
            ]
          },
          "execution_count": 134,
          "metadata": {},
          "output_type": "execute_result"
        }
      ],
      "source": [
        "A = sorted(A) \n",
        "\n",
        "A"
      ]
    },
    {
      "cell_type": "code",
      "execution_count": null,
      "metadata": {
        "colab": {
          "base_uri": "https://localhost:8080/"
        },
        "id": "RZPTTy7klbvY",
        "outputId": "1b739fd1-7365-43f0-eb8f-e914ac11a8a7"
      },
      "outputs": [
        {
          "data": {
            "text/plain": [
              "4"
            ]
          },
          "execution_count": 135,
          "metadata": {},
          "output_type": "execute_result"
        }
      ],
      "source": [
        "A = (22, 12, 34, 1)\n",
        "\n",
        "len(A)"
      ]
    },
    {
      "cell_type": "code",
      "execution_count": null,
      "metadata": {
        "colab": {
          "base_uri": "https://localhost:8080/"
        },
        "id": "4F70xhA2lpLE",
        "outputId": "335e96dc-1499-48c2-a5a3-0e25417d08ce"
      },
      "outputs": [
        {
          "data": {
            "text/plain": [
              "(22, 12, 34, 1, 22, 12, 34, 1)"
            ]
          },
          "execution_count": 136,
          "metadata": {},
          "output_type": "execute_result"
        }
      ],
      "source": [
        "A * 2"
      ]
    },
    {
      "cell_type": "code",
      "execution_count": null,
      "metadata": {
        "colab": {
          "base_uri": "https://localhost:8080/"
        },
        "id": "p1tPxtpEls8R",
        "outputId": "6fa26dce-2ae0-42b9-ee43-8922a6c68268"
      },
      "outputs": [
        {
          "data": {
            "text/plain": [
              "(22, 12, 34, 1)"
            ]
          },
          "execution_count": 137,
          "metadata": {},
          "output_type": "execute_result"
        }
      ],
      "source": [
        "A"
      ]
    },
    {
      "cell_type": "code",
      "execution_count": null,
      "metadata": {
        "colab": {
          "base_uri": "https://localhost:8080/",
          "height": 167
        },
        "id": "3K69HqNflxq7",
        "outputId": "b407818d-b979-43fb-e8d2-61aea6e8e0c9"
      },
      "outputs": [
        {
          "ename": "TypeError",
          "evalue": "ignored",
          "output_type": "error",
          "traceback": [
            "\u001b[0;31m---------------------------------------------------------------------------\u001b[0m",
            "\u001b[0;31mTypeError\u001b[0m                                 Traceback (most recent call last)",
            "\u001b[0;32m<ipython-input-138-fc368ac398f3>\u001b[0m in \u001b[0;36m<module>\u001b[0;34m\u001b[0m\n\u001b[0;32m----> 1\u001b[0;31m \u001b[0mA\u001b[0m \u001b[0;34m**\u001b[0m \u001b[0;36m2\u001b[0m\u001b[0;34m\u001b[0m\u001b[0;34m\u001b[0m\u001b[0m\n\u001b[0m",
            "\u001b[0;31mTypeError\u001b[0m: unsupported operand type(s) for ** or pow(): 'tuple' and 'int'"
          ]
        }
      ],
      "source": [
        "A ** 2"
      ]
    },
    {
      "cell_type": "code",
      "execution_count": null,
      "metadata": {
        "colab": {
          "base_uri": "https://localhost:8080/"
        },
        "id": "SSeC6Ffjl37c",
        "outputId": "5dc0fd67-15dd-49a6-822e-e3acc248b1f6"
      },
      "outputs": [
        {
          "data": {
            "text/plain": [
              "34"
            ]
          },
          "execution_count": 139,
          "metadata": {},
          "output_type": "execute_result"
        }
      ],
      "source": [
        "max(A)"
      ]
    },
    {
      "cell_type": "code",
      "execution_count": null,
      "metadata": {
        "colab": {
          "base_uri": "https://localhost:8080/"
        },
        "id": "SKV-shGFmAwJ",
        "outputId": "f363e19f-30d4-40b3-93a2-599cf22886df"
      },
      "outputs": [
        {
          "data": {
            "text/plain": [
              "1"
            ]
          },
          "execution_count": 140,
          "metadata": {},
          "output_type": "execute_result"
        }
      ],
      "source": [
        "min(A)"
      ]
    },
    {
      "cell_type": "code",
      "execution_count": null,
      "metadata": {
        "colab": {
          "base_uri": "https://localhost:8080/"
        },
        "id": "KEkbzZYTmDSD",
        "outputId": "a387fe31-cc06-4dad-f56e-8b8c1e334ade"
      },
      "outputs": [
        {
          "data": {
            "text/plain": [
              "1"
            ]
          },
          "execution_count": 141,
          "metadata": {},
          "output_type": "execute_result"
        }
      ],
      "source": [
        "A.index(12)"
      ]
    },
    {
      "cell_type": "code",
      "execution_count": null,
      "metadata": {
        "colab": {
          "base_uri": "https://localhost:8080/"
        },
        "id": "W69aOqpBmHQK",
        "outputId": "6d678863-6a4f-4ab9-e871-8dcf08c9b053"
      },
      "outputs": [
        {
          "data": {
            "text/plain": [
              "1"
            ]
          },
          "execution_count": 142,
          "metadata": {},
          "output_type": "execute_result"
        }
      ],
      "source": [
        "A.count(12)"
      ]
    },
    {
      "cell_type": "code",
      "execution_count": null,
      "metadata": {
        "colab": {
          "base_uri": "https://localhost:8080/"
        },
        "id": "PJyTIntmmLDz",
        "outputId": "c806a70d-f95c-4f63-deec-d8a17b1f97e7"
      },
      "outputs": [
        {
          "data": {
            "text/plain": [
              "69"
            ]
          },
          "execution_count": 143,
          "metadata": {},
          "output_type": "execute_result"
        }
      ],
      "source": [
        "sum(A)"
      ]
    },
    {
      "cell_type": "code",
      "execution_count": null,
      "metadata": {
        "colab": {
          "base_uri": "https://localhost:8080/",
          "height": 167
        },
        "id": "cQq6tl-XmNl_",
        "outputId": "e1754452-4c89-4e2a-d689-1e6f7e04fde7"
      },
      "outputs": [
        {
          "ename": "AttributeError",
          "evalue": "ignored",
          "output_type": "error",
          "traceback": [
            "\u001b[0;31m---------------------------------------------------------------------------\u001b[0m",
            "\u001b[0;31mAttributeError\u001b[0m                            Traceback (most recent call last)",
            "\u001b[0;32m<ipython-input-144-2477a2478712>\u001b[0m in \u001b[0;36m<module>\u001b[0;34m\u001b[0m\n\u001b[0;32m----> 1\u001b[0;31m \u001b[0mA\u001b[0m\u001b[0;34m.\u001b[0m\u001b[0mreversed\u001b[0m\u001b[0;34m(\u001b[0m\u001b[0;34m)\u001b[0m\u001b[0;34m\u001b[0m\u001b[0;34m\u001b[0m\u001b[0m\n\u001b[0m",
            "\u001b[0;31mAttributeError\u001b[0m: 'tuple' object has no attribute 'reversed'"
          ]
        }
      ],
      "source": [
        "# A.reversed()"
      ]
    },
    {
      "cell_type": "code",
      "execution_count": null,
      "metadata": {
        "colab": {
          "base_uri": "https://localhost:8080/"
        },
        "id": "B9IhcpSQnVLB",
        "outputId": "627225a6-ed64-4d47-d30a-d49b77102512"
      },
      "outputs": [
        {
          "data": {
            "text/plain": [
              "(22, 12, 34, 1)"
            ]
          },
          "execution_count": 145,
          "metadata": {},
          "output_type": "execute_result"
        }
      ],
      "source": [
        "A"
      ]
    },
    {
      "cell_type": "code",
      "execution_count": null,
      "metadata": {
        "colab": {
          "base_uri": "https://localhost:8080/"
        },
        "id": "pk-6SCkynWfX",
        "outputId": "4f6265d9-6acc-4820-e0ca-5409808c38ca"
      },
      "outputs": [
        {
          "data": {
            "text/plain": [
              "(12, 34, 1)"
            ]
          },
          "execution_count": 146,
          "metadata": {},
          "output_type": "execute_result"
        }
      ],
      "source": [
        "A[1:]"
      ]
    },
    {
      "cell_type": "code",
      "execution_count": null,
      "metadata": {
        "colab": {
          "base_uri": "https://localhost:8080/"
        },
        "id": "YFyUbq_fnZ1m",
        "outputId": "ab2a2197-89d6-4db7-c38d-f6bd8854515e"
      },
      "outputs": [
        {
          "data": {
            "text/plain": [
              "(1, 34, 12, 22)"
            ]
          },
          "execution_count": 147,
          "metadata": {},
          "output_type": "execute_result"
        }
      ],
      "source": [
        "A[::-1]"
      ]
    },
    {
      "cell_type": "code",
      "execution_count": null,
      "metadata": {
        "id": "0wzWk3d9mQbF"
      },
      "outputs": [],
      "source": [
        "# (\"item_name\", amount) \n",
        "\n",
        "amazon_cart = [(\"watch\", 5000), (\"phone\", 10000), (\"laptop\", 50000), (\"shirt\", 1000)]\n",
        "\n",
        "total_cost = 0"
      ]
    },
    {
      "cell_type": "code",
      "execution_count": null,
      "metadata": {
        "colab": {
          "base_uri": "https://localhost:8080/"
        },
        "id": "VO_lKZ7em3xX",
        "outputId": "50a4f8a0-6e7b-4738-c2f5-93164e0fd5bc"
      },
      "outputs": [
        {
          "name": "stdout",
          "output_type": "stream",
          "text": [
            "empty cart: 0\n",
            "5000\n",
            "cart after adding watch: 5000\n",
            "10000\n",
            "cart after adding phone: 15000\n",
            "50000\n",
            "cart after adding laptop: 65000\n",
            "1000\n",
            "cart after adding shirt: 66000\n",
            "Total payable amount: 66000\n"
          ]
        }
      ],
      "source": [
        "total_cost = 0\n",
        "print(f\"empty cart: {total_cost}\")\n",
        "\n",
        "for item in amazon_cart:\n",
        "  print(item[1])\n",
        "  total_cost = total_cost + item[1]\n",
        "  print(f\"cart after adding {item[0]}: {total_cost}\")\n",
        "\n",
        "print(f\"Total payable amount: {total_cost}\")"
      ]
    },
    {
      "cell_type": "code",
      "execution_count": null,
      "metadata": {
        "colab": {
          "base_uri": "https://localhost:8080/"
        },
        "id": "i2AsOxVYnxdJ",
        "outputId": "fa4025c9-c3a7-464b-a1e2-b85ffb95ad0e"
      },
      "outputs": [
        {
          "name": "stdout",
          "output_type": "stream",
          "text": [
            "What you want to purchase? : phone\n"
          ]
        }
      ],
      "source": [
        "# user input what you want to purchase?\n",
        "# \n",
        "\n",
        "\n",
        "amazon_website = [(\"watch\", 5000), (\"phone\", 10000), (\"laptop\", 50000), (\"shirt\", 1000)]\n",
        "\n",
        "my_choice = input(\"What you want to purchase? : \")"
      ]
    },
    {
      "cell_type": "code",
      "execution_count": null,
      "metadata": {
        "colab": {
          "base_uri": "https://localhost:8080/",
          "height": 35
        },
        "id": "QeVB2LGuo2A4",
        "outputId": "f83d7842-b71c-4d4b-c127-fa9fe9c5a7b2"
      },
      "outputs": [
        {
          "data": {
            "application/vnd.google.colaboratory.intrinsic+json": {
              "type": "string"
            },
            "text/plain": [
              "'phone'"
            ]
          },
          "execution_count": 158,
          "metadata": {},
          "output_type": "execute_result"
        }
      ],
      "source": [
        "my_choice"
      ]
    },
    {
      "cell_type": "code",
      "execution_count": null,
      "metadata": {
        "colab": {
          "base_uri": "https://localhost:8080/"
        },
        "id": "i-Wz5KMyo5D-",
        "outputId": "6db4b395-eb92-4f22-e74f-4474924bf910"
      },
      "outputs": [
        {
          "name": "stdout",
          "output_type": "stream",
          "text": [
            "('phone', 10000)\n"
          ]
        }
      ],
      "source": [
        "for item in amazon_website:\n",
        "  if item[0] == my_choice:\n",
        "    print(item)\n"
      ]
    },
    {
      "cell_type": "markdown",
      "metadata": {
        "id": "TTtn4Afqp1jV"
      },
      "source": [
        "## Assignment\n",
        "\n",
        "1. On amazon website we have the following available items - \n",
        "\n",
        "```python\n",
        "amazon_website = [(\"watch\", 5000), (\"phone\", 10000), (\"laptop\", 50000), (\"shirt\", 1000)]\n",
        "```\n",
        "Take the user input N no. of times and find out the total cost to be paid?\n",
        "\n",
        "OR\n",
        "\n",
        "You can ask the user quntity or the count of item?\n",
        "\n",
        "if the item is not present in the amazon website then print that item as out of stock and do add it total\n",
        "\n",
        "\n",
        "HINT: while, for loop.. indexing"
      ]
    },
    {
      "cell_type": "markdown",
      "metadata": {
        "id": "oklm1MIirf8j"
      },
      "source": [
        "## Sets\n",
        "unordered collection of unique elements"
      ]
    },
    {
      "cell_type": "code",
      "execution_count": null,
      "metadata": {
        "id": "QxfBCEc3roJg"
      },
      "outputs": [],
      "source": [
        "x = {1,2,33,6,7}"
      ]
    },
    {
      "cell_type": "code",
      "execution_count": null,
      "metadata": {
        "colab": {
          "base_uri": "https://localhost:8080/"
        },
        "id": "LK7q9fbmpKJD",
        "outputId": "ab89a8d1-5fd5-42b8-de8d-30fec3377b23"
      },
      "outputs": [
        {
          "data": {
            "text/plain": [
              "set"
            ]
          },
          "execution_count": 163,
          "metadata": {},
          "output_type": "execute_result"
        }
      ],
      "source": [
        "type(x)"
      ]
    },
    {
      "cell_type": "code",
      "execution_count": null,
      "metadata": {
        "colab": {
          "base_uri": "https://localhost:8080/"
        },
        "id": "XbN9PuEsr5ix",
        "outputId": "ece25c9b-85a6-486c-cdb6-3d43c693a807"
      },
      "outputs": [
        {
          "data": {
            "text/plain": [
              "{1, 2, 6, 7, 33}"
            ]
          },
          "execution_count": 164,
          "metadata": {},
          "output_type": "execute_result"
        }
      ],
      "source": [
        "x =  {1,2,33,6,7, 7, 7}\n",
        "\n",
        "x"
      ]
    },
    {
      "cell_type": "code",
      "execution_count": null,
      "metadata": {
        "colab": {
          "base_uri": "https://localhost:8080/"
        },
        "id": "kvOkV6wWr_MV",
        "outputId": "b1b403cd-f2b1-4c3f-f009-ea19120bfc06"
      },
      "outputs": [
        {
          "data": {
            "text/plain": [
              "set"
            ]
          },
          "execution_count": 165,
          "metadata": {},
          "output_type": "execute_result"
        }
      ],
      "source": [
        "x = set() # RECOMMENDED\n",
        "\n",
        "type(x)"
      ]
    },
    {
      "cell_type": "code",
      "execution_count": null,
      "metadata": {
        "colab": {
          "base_uri": "https://localhost:8080/"
        },
        "id": "xml-sZA0sNLs",
        "outputId": "518c550a-d915-44bc-bf00-bf849151d851"
      },
      "outputs": [
        {
          "data": {
            "text/plain": [
              "dict"
            ]
          },
          "execution_count": 166,
          "metadata": {},
          "output_type": "execute_result"
        }
      ],
      "source": [
        "x = {} # NOT recommended\n",
        "\n",
        "type(x)"
      ]
    },
    {
      "cell_type": "code",
      "execution_count": null,
      "metadata": {
        "colab": {
          "base_uri": "https://localhost:8080/"
        },
        "id": "QEvjdZuYsQpr",
        "outputId": "d17727c5-0e37-43c2-8ed5-18456eb0c689"
      },
      "outputs": [
        {
          "data": {
            "text/plain": [
              "()"
            ]
          },
          "execution_count": 167,
          "metadata": {},
          "output_type": "execute_result"
        }
      ],
      "source": [
        "x = tuple()\n",
        "x"
      ]
    },
    {
      "cell_type": "code",
      "execution_count": null,
      "metadata": {
        "colab": {
          "base_uri": "https://localhost:8080/"
        },
        "id": "B-IgDxTfsXJu",
        "outputId": "fd2f373b-ea1e-4cd9-b1b4-768ce5bc433a"
      },
      "outputs": [
        {
          "data": {
            "text/plain": [
              "[]"
            ]
          },
          "execution_count": 168,
          "metadata": {},
          "output_type": "execute_result"
        }
      ],
      "source": [
        "x = list()\n",
        "x"
      ]
    },
    {
      "cell_type": "code",
      "execution_count": null,
      "metadata": {
        "colab": {
          "base_uri": "https://localhost:8080/"
        },
        "id": "YGvWQUvKsaEy",
        "outputId": "3b336eb8-ce12-438b-c853-21ee2f677f8f"
      },
      "outputs": [
        {
          "data": {
            "text/plain": [
              "{1, 2, 6, 7, 33}"
            ]
          },
          "execution_count": 171,
          "metadata": {},
          "output_type": "execute_result"
        }
      ],
      "source": [
        "x =  {1,2,33,6,7, 7, 7}\n",
        "\n",
        "x"
      ]
    },
    {
      "cell_type": "code",
      "execution_count": null,
      "metadata": {
        "colab": {
          "base_uri": "https://localhost:8080/",
          "height": 167
        },
        "id": "6N9RGeGwswSl",
        "outputId": "533e22e3-f2bb-4d8d-8d47-3c909b0d39ef"
      },
      "outputs": [
        {
          "ename": "TypeError",
          "evalue": "ignored",
          "output_type": "error",
          "traceback": [
            "\u001b[0;31m---------------------------------------------------------------------------\u001b[0m",
            "\u001b[0;31mTypeError\u001b[0m                                 Traceback (most recent call last)",
            "\u001b[0;32m<ipython-input-172-2f755f117ac9>\u001b[0m in \u001b[0;36m<module>\u001b[0;34m\u001b[0m\n\u001b[0;32m----> 1\u001b[0;31m \u001b[0mx\u001b[0m\u001b[0;34m[\u001b[0m\u001b[0;36m0\u001b[0m\u001b[0;34m]\u001b[0m\u001b[0;34m\u001b[0m\u001b[0;34m\u001b[0m\u001b[0m\n\u001b[0m",
            "\u001b[0;31mTypeError\u001b[0m: 'set' object is not subscriptable"
          ]
        }
      ],
      "source": [
        "x[0] # NOT allowed as set is unordered"
      ]
    },
    {
      "cell_type": "code",
      "execution_count": null,
      "metadata": {
        "colab": {
          "base_uri": "https://localhost:8080/"
        },
        "id": "J0i6FQl0s4uh",
        "outputId": "b7aafefb-dd8c-4ada-8308-f9a424bba0de"
      },
      "outputs": [
        {
          "data": {
            "text/plain": [
              "{1, 2, 33, 6, 'Sunny'}"
            ]
          },
          "execution_count": 179,
          "metadata": {},
          "output_type": "execute_result"
        }
      ],
      "source": [
        "x =  {1,2,33,6,\"Sunny\"}\n",
        "\n",
        "x"
      ]
    },
    {
      "cell_type": "code",
      "execution_count": null,
      "metadata": {
        "colab": {
          "base_uri": "https://localhost:8080/"
        },
        "id": "XSMPlR4stFbg",
        "outputId": "eec8cca8-40ea-4899-890e-0fbfdb40b4b7"
      },
      "outputs": [
        {
          "data": {
            "text/plain": [
              "{1, 2, 33, 6, 99, 'Sunny'}"
            ]
          },
          "execution_count": 180,
          "metadata": {},
          "output_type": "execute_result"
        }
      ],
      "source": [
        "x.add(99)\n",
        "\n",
        "x"
      ]
    },
    {
      "cell_type": "code",
      "execution_count": null,
      "metadata": {
        "colab": {
          "base_uri": "https://localhost:8080/"
        },
        "id": "kRZanUa8uitQ",
        "outputId": "31c65e27-1611-4e85-ce9d-f2329896618c"
      },
      "outputs": [
        {
          "data": {
            "text/plain": [
              "{(99+2j), 1, 2, 33, 6, 99, 'Sunny'}"
            ]
          },
          "execution_count": 181,
          "metadata": {},
          "output_type": "execute_result"
        }
      ],
      "source": [
        "x.add(99+2j)\n",
        "\n",
        "x"
      ]
    },
    {
      "cell_type": "code",
      "execution_count": null,
      "metadata": {
        "colab": {
          "base_uri": "https://localhost:8080/"
        },
        "id": "blzUq1jzumlY",
        "outputId": "377b7c19-986c-4efc-e4f4-a5e6d590ce89"
      },
      "outputs": [
        {
          "data": {
            "text/plain": [
              "{(99+2j), -100, 1, 2, 33, 6, 99, 'Sunny'}"
            ]
          },
          "execution_count": 182,
          "metadata": {},
          "output_type": "execute_result"
        }
      ],
      "source": [
        "x.add( -100)\n",
        "\n",
        "x"
      ]
    },
    {
      "cell_type": "code",
      "execution_count": null,
      "metadata": {
        "colab": {
          "base_uri": "https://localhost:8080/"
        },
        "id": "wwd50Shgurph",
        "outputId": "2743c65d-edd4-430c-f247-ee353d42c74f"
      },
      "outputs": [
        {
          "data": {
            "text/plain": [
              "{(99+2j), -100, -200, 1, 2, 33, 6, 99, 'Sunny'}"
            ]
          },
          "execution_count": 183,
          "metadata": {},
          "output_type": "execute_result"
        }
      ],
      "source": [
        "x.add( -200)\n",
        "\n",
        "x"
      ]
    },
    {
      "cell_type": "code",
      "execution_count": null,
      "metadata": {
        "colab": {
          "base_uri": "https://localhost:8080/"
        },
        "id": "aSyOOCJAuw6j",
        "outputId": "64156b42-bff8-4fab-9491-3e450a05a127"
      },
      "outputs": [
        {
          "data": {
            "text/plain": [
              "{(99+2j), -100, -200, 1, 2, 20.2, 33, 6, 99, 'Sunny'}"
            ]
          },
          "execution_count": 184,
          "metadata": {},
          "output_type": "execute_result"
        }
      ],
      "source": [
        "x.add( 20.2)\n",
        "\n",
        "x"
      ]
    },
    {
      "cell_type": "code",
      "execution_count": null,
      "metadata": {
        "colab": {
          "base_uri": "https://localhost:8080/"
        },
        "id": "cHi1LKQruzy_",
        "outputId": "3e0b2523-06e7-4558-fe1a-1fba77429609"
      },
      "outputs": [
        {
          "data": {
            "text/plain": [
              "{(99+2j), -100, -200, 1, 2, 20.2, 33, 40.2, 6, 99, 'Sunny'}"
            ]
          },
          "execution_count": 185,
          "metadata": {},
          "output_type": "execute_result"
        }
      ],
      "source": [
        "x.add( 40.2)\n",
        "\n",
        "x"
      ]
    },
    {
      "cell_type": "code",
      "execution_count": null,
      "metadata": {
        "colab": {
          "base_uri": "https://localhost:8080/"
        },
        "id": "F9Kw7VFavIPI",
        "outputId": "604c767d-ee04-41ed-8009-97b5453852fa"
      },
      "outputs": [
        {
          "data": {
            "text/plain": [
              "{(99+2j), -200, 1, 2, 20.2, 33, 40.2, 6, 99, 'Sunny'}"
            ]
          },
          "execution_count": 186,
          "metadata": {},
          "output_type": "execute_result"
        }
      ],
      "source": [
        "x.remove(-100)\n",
        "\n",
        "x"
      ]
    },
    {
      "cell_type": "code",
      "execution_count": null,
      "metadata": {
        "colab": {
          "base_uri": "https://localhost:8080/"
        },
        "id": "fzQU7TB5t_ij",
        "outputId": "4e2ab3ca-2d31-4bc9-c12f-33ef951f2111"
      },
      "outputs": [
        {
          "data": {
            "text/plain": [
              "[1, 2, 3, 5, 6, 7]"
            ]
          },
          "execution_count": 178,
          "metadata": {},
          "output_type": "execute_result"
        }
      ],
      "source": [
        "## return the list with unique elements\n",
        "\n",
        "A = [1,2,3,5,5,6,6,7,7,7]\n",
        "\n",
        "A = list(set(A))\n",
        "\n",
        "A"
      ]
    },
    {
      "cell_type": "code",
      "execution_count": null,
      "metadata": {
        "colab": {
          "base_uri": "https://localhost:8080/",
          "height": 201
        },
        "id": "ZDkNuvM-tp4E",
        "outputId": "67c5634f-c910-4fd4-a11f-d199a9073cb1"
      },
      "outputs": [
        {
          "ename": "AttributeError",
          "evalue": "ignored",
          "output_type": "error",
          "traceback": [
            "\u001b[0;31m---------------------------------------------------------------------------\u001b[0m",
            "\u001b[0;31mAttributeError\u001b[0m                            Traceback (most recent call last)",
            "\u001b[0;32m<ipython-input-175-ba28f7934289>\u001b[0m in \u001b[0;36m<module>\u001b[0;34m\u001b[0m\n\u001b[0;32m----> 1\u001b[0;31m \u001b[0mx\u001b[0m\u001b[0;34m.\u001b[0m\u001b[0mappend\u001b[0m\u001b[0;34m(\u001b[0m\u001b[0;36m99\u001b[0m\u001b[0;34m)\u001b[0m\u001b[0;34m\u001b[0m\u001b[0;34m\u001b[0m\u001b[0m\n\u001b[0m\u001b[1;32m      2\u001b[0m \u001b[0;34m\u001b[0m\u001b[0m\n\u001b[1;32m      3\u001b[0m \u001b[0mx\u001b[0m\u001b[0;34m\u001b[0m\u001b[0;34m\u001b[0m\u001b[0m\n",
            "\u001b[0;31mAttributeError\u001b[0m: 'set' object has no attribute 'append'"
          ]
        }
      ],
      "source": [
        "x.append(99)\n",
        "\n",
        "x"
      ]
    },
    {
      "cell_type": "code",
      "execution_count": null,
      "metadata": {
        "colab": {
          "base_uri": "https://localhost:8080/",
          "height": 201
        },
        "id": "7Von5yPKttem",
        "outputId": "983eef6e-2480-4863-de50-e145dc1b4b34"
      },
      "outputs": [
        {
          "ename": "TypeError",
          "evalue": "ignored",
          "output_type": "error",
          "traceback": [
            "\u001b[0;31m---------------------------------------------------------------------------\u001b[0m",
            "\u001b[0;31mTypeError\u001b[0m                                 Traceback (most recent call last)",
            "\u001b[0;32m<ipython-input-176-60d456feb3d2>\u001b[0m in \u001b[0;36m<module>\u001b[0;34m\u001b[0m\n\u001b[1;32m      3\u001b[0m \u001b[0;34m\u001b[0m\u001b[0m\n\u001b[1;32m      4\u001b[0m \u001b[0;34m\u001b[0m\u001b[0m\n\u001b[0;32m----> 5\u001b[0;31m \u001b[0mA\u001b[0m \u001b[0;34m+\u001b[0m \u001b[0mB\u001b[0m\u001b[0;34m\u001b[0m\u001b[0;34m\u001b[0m\u001b[0m\n\u001b[0m",
            "\u001b[0;31mTypeError\u001b[0m: unsupported operand type(s) for +: 'set' and 'set'"
          ]
        }
      ],
      "source": [
        "A = {1,2,3}\n",
        "B = {4,5,6}\n",
        "\n",
        "\n",
        "A + B"
      ]
    },
    {
      "cell_type": "code",
      "execution_count": null,
      "metadata": {
        "colab": {
          "base_uri": "https://localhost:8080/"
        },
        "id": "OMCJr9rTt7FM",
        "outputId": "9caea2db-fbef-4d94-d64f-708c3a189eb8"
      },
      "outputs": [
        {
          "data": {
            "text/plain": [
              "['rishirishi',\n",
              " 'rishirishi',\n",
              " 'rishirishi',\n",
              " 'rishirishi',\n",
              " 'rishirishi',\n",
              " 'rishirishi',\n",
              " 'rishirishi',\n",
              " 'rishirishi',\n",
              " 'rishirishi',\n",
              " 'rishirishi']"
            ]
          },
          "execution_count": 188,
          "metadata": {},
          "output_type": "execute_result"
        }
      ],
      "source": [
        "name = \"rishi\"\n",
        "\n",
        "example = [name*2 for i in range(10)]\n",
        "\n",
        "example"
      ]
    },
    {
      "cell_type": "code",
      "execution_count": null,
      "metadata": {
        "colab": {
          "base_uri": "https://localhost:8080/"
        },
        "id": "9PyKpQQKwL3H",
        "outputId": "77cd75c9-2581-454a-c122-701d81669439"
      },
      "outputs": [
        {
          "data": {
            "text/plain": [
              "[0, 1, 2, 3, 4, 5, 6, 7, 8, 9]"
            ]
          },
          "execution_count": 189,
          "metadata": {},
          "output_type": "execute_result"
        }
      ],
      "source": [
        "\n",
        "example = [i for i in range(10)]\n",
        "\n",
        "example"
      ]
    },
    {
      "cell_type": "code",
      "execution_count": null,
      "metadata": {
        "colab": {
          "base_uri": "https://localhost:8080/"
        },
        "id": "lGisFjwCwVw-",
        "outputId": "d4d39280-df4a-4cbc-b8dc-ef33148d770e"
      },
      "outputs": [
        {
          "data": {
            "text/plain": [
              "[0, 1, 4, 9, 16, 25, 36, 49, 64, 81]"
            ]
          },
          "execution_count": 190,
          "metadata": {},
          "output_type": "execute_result"
        }
      ],
      "source": [
        "\n",
        "example = [i**2 for i in range(10)]\n",
        "\n",
        "example"
      ]
    },
    {
      "cell_type": "code",
      "execution_count": null,
      "metadata": {
        "colab": {
          "base_uri": "https://localhost:8080/"
        },
        "id": "us9NxVi3wYxS",
        "outputId": "9f066e4f-5ecb-4327-cbfd-2baa29558e99"
      },
      "outputs": [
        {
          "data": {
            "text/plain": [
              "[1, 4, 9, 16, 25, 36, 49, 64, 81, 100]"
            ]
          },
          "execution_count": 191,
          "metadata": {},
          "output_type": "execute_result"
        }
      ],
      "source": [
        "\n",
        "example = [i**2 for i in range(1, 11)]\n",
        "\n",
        "example"
      ]
    },
    {
      "cell_type": "code",
      "execution_count": null,
      "metadata": {
        "id": "VEYo8mFwwdTX"
      },
      "outputs": [],
      "source": []
    }
  ],
  "metadata": {
    "colab": {
      "collapsed_sections": [],
      "include_colab_link": true,
      "provenance": []
    },
    "kernelspec": {
      "display_name": "Python 3",
      "language": "python",
      "name": "python3"
    },
    "language_info": {
      "name": "python",
      "version": "3.10.4 (v3.10.4:9d38120e33, Mar 23 2022, 17:29:05) [Clang 13.0.0 (clang-1300.0.29.30)]"
    },
    "vscode": {
      "interpreter": {
        "hash": "aee8b7b246df8f9039afb4144a1f6fd8d2ca17a180786b69acc140d282b71a49"
      }
    }
  },
  "nbformat": 4,
  "nbformat_minor": 0
}
