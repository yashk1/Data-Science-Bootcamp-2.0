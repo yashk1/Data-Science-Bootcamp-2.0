{
 "cells": [
  {
   "cell_type": "code",
   "execution_count": 7,
   "metadata": {},
   "outputs": [
    {
     "name": "stdout",
     "output_type": "stream",
     "text": [
      "numpy \n",
      "pandas\n",
      "flask\n",
      "seaborn\n",
      "scikit-learn\n",
      "-e .\n"
     ]
    },
    {
     "data": {
      "text/plain": [
       "['numpy ', 'pandas', 'flask', 'seaborn', 'scikit-learn', '-e .']"
      ]
     },
     "execution_count": 7,
     "metadata": {},
     "output_type": "execute_result"
    }
   ],
   "source": [
    "f = open(\"/Users/yash/github/Data-Science-Bootcamp-2.0/projects/house_price_prediction/requirements.txt\", \"r\")\n",
    "print(f.read())\n",
    "\n",
    "requirements = []\n",
    "f = open(\"/Users/yash/github/Data-Science-Bootcamp-2.0/projects/house_price_prediction/requirements.txt\", \"r\")\n",
    "[r.replace('\\n','') for r in f.readlines()]"
   ]
  },
  {
   "cell_type": "code",
   "execution_count": 2,
   "metadata": {},
   "outputs": [
    {
     "data": {
      "text/plain": [
       "['numpy \\n', 'pandas\\n', 'flask\\n', 'seaborn\\n', 'scikit-learn\\n', '\\n']"
      ]
     },
     "execution_count": 2,
     "metadata": {},
     "output_type": "execute_result"
    }
   ],
   "source": [
    "requirements"
   ]
  },
  {
   "cell_type": "code",
   "execution_count": null,
   "metadata": {},
   "outputs": [],
   "source": []
  }
 ],
 "metadata": {
  "kernelspec": {
   "display_name": "base",
   "language": "python",
   "name": "python3"
  },
  "language_info": {
   "codemirror_mode": {
    "name": "ipython",
    "version": 3
   },
   "file_extension": ".py",
   "mimetype": "text/x-python",
   "name": "python",
   "nbconvert_exporter": "python",
   "pygments_lexer": "ipython3",
   "version": "3.11.4"
  },
  "orig_nbformat": 4
 },
 "nbformat": 4,
 "nbformat_minor": 2
}
