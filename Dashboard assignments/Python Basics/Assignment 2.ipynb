{
 "cells": [
  {
   "cell_type": "markdown",
   "metadata": {},
   "source": [
    "# Assignment 2 solutions"
   ]
  },
  {
   "cell_type": "markdown",
   "metadata": {},
   "source": [
    "#### 1. What are the two values of the boolean data types? how do you write them ?\n",
    "\n",
    "Ans: There are two values of boolean `True` and `False`. "
   ]
  },
  {
   "cell_type": "code",
   "execution_count": 1,
   "metadata": {},
   "outputs": [
    {
     "name": "stdout",
     "output_type": "stream",
     "text": [
      "True <class 'bool'>\n",
      "False <class 'bool'>\n"
     ]
    }
   ],
   "source": [
    "a = True\n",
    "b = False\n",
    "print(a, type(a))\n",
    "print(b, type(b))"
   ]
  },
  {
   "cell_type": "markdown",
   "metadata": {},
   "source": [
    "#### 2. What are the three different types of Boolean operators?\n",
    "\n",
    "Ans: There are 3 types of boolean operators: AND, OR, NOT"
   ]
  },
  {
   "cell_type": "code",
   "execution_count": 4,
   "metadata": {},
   "outputs": [
    {
     "name": "stdout",
     "output_type": "stream",
     "text": [
      "True\n",
      "False\n",
      "False\n"
     ]
    }
   ],
   "source": [
    "num1 = 100\n",
    "num2 = 200\n",
    "\n",
    "print(num1 >50 and num1 <101) #True\n",
    "\n",
    "print(num1 >1000 or num2 >2000) #False, or operator\n",
    "\n",
    "c = True\n",
    "print(not(c)) #not operator"
   ]
  },
  {
   "cell_type": "markdown",
   "metadata": {},
   "source": [
    "#### 3. Make a list of each Boolean operators truth tables (i.e. every possible combination of Boolean values for the operator and what it evaluate) ?\n",
    "**Ans**: \n",
    "\n",
    "* ** `and` operaotor**  \n",
    "    _True and True is True   \n",
    "    True and False is False  \n",
    "    False and True is False  \n",
    "    False and False is False_\n",
    "    \n",
    "    \n",
    "* **`or` operaotor**  \n",
    "    _True and True is True   \n",
    "    True and False is True  \n",
    "    False and True is True  \n",
    "    False and False is False_\n",
    "    \n",
    "    \n",
    "* **`not` operaotor**        \n",
    "    _True not is False\n",
    "    False not is True_\n",
    "    "
   ]
  },
  {
   "cell_type": "markdown",
   "metadata": {},
   "source": [
    "#### 4. What are the values of the following expressions ?\n",
    "* (5 &gt; 4) and (3 == 5)  \n",
    "* not (5 &gt; 4)  \n",
    "* (5 &gt; 4) or (3 == 5)  \n",
    "* not ((5 &gt; 4) or (3 == 5))  \n",
    "* (True and True) and (True == False)  \n",
    "* (not False) or (not True)  \n"
   ]
  },
  {
   "cell_type": "markdown",
   "metadata": {},
   "source": [
    "Ans:\n",
    "\n",
    "(5>4) and (3==5) \n",
    "True and False -> False\n",
    "\n",
    "not(5>4) \n",
    "not(True) -> False\n",
    "\n",
    "(5>4) or (3==5) \n",
    "True or False -> True\n",
    "\n",
    "not((5>4)) \n",
    "not(True) ->False\n",
    "\n",
    "(True and True) and (True == False) \n",
    "True and False -> False\n",
    "\n",
    "(not False) or (not True) \n",
    "True or False -> True"
   ]
  },
  {
   "cell_type": "markdown",
   "metadata": {},
   "source": [
    "#### 5. What are the six comparison operators?\n",
    "\n",
    "The six operators are\n",
    "1. `>`\n",
    "1. `<`\n",
    "1. `>=`\n",
    "1. `<=`\n",
    "1. `==`\n",
    "1. `!=` "
   ]
  },
  {
   "cell_type": "markdown",
   "metadata": {},
   "source": [
    "#### 6. How do you tell the difference between the equal to and assignment operators?Describe a condition and when you would use one ? \n",
    "**Ans:** `==` is the equal to operator that compares two values and evaluates to a Boolean, while `=` is an assignment operator that stores a value in a variable.\n"
   ]
  },
  {
   "cell_type": "code",
   "execution_count": 7,
   "metadata": {},
   "outputs": [
    {
     "data": {
      "text/plain": [
       "False"
      ]
     },
     "execution_count": 7,
     "metadata": {},
     "output_type": "execute_result"
    }
   ],
   "source": [
    "a = True #assignment\n",
    "\n",
    "a == False #comparison\n"
   ]
  },
  {
   "cell_type": "markdown",
   "metadata": {},
   "source": [
    "#### 7. Identify the three blocks in this code:\n",
    "spam = 0  \n",
    "if spam == 10:  \n",
    "print('eggs')  \n",
    "if spam > 5:  \n",
    "print('bacon')  \n",
    "else:  \n",
    "print('ham')  \n",
    "print('spam')  \n",
    "print('spam')"
   ]
  },
  {
   "cell_type": "code",
   "execution_count": 9,
   "metadata": {},
   "outputs": [
    {
     "name": "stdout",
     "output_type": "stream",
     "text": [
      "ham\n",
      "spam\n",
      "spam\n"
     ]
    }
   ],
   "source": [
    "spam = 0  \n",
    "if spam == 10:  #block 1\n",
    "    print('eggs')  \n",
    "if spam > 5:  #block 2\n",
    "    print('bacon')  \n",
    "else:  #block 3\n",
    "    print('ham')  \n",
    "    print('spam')  \n",
    "    print('spam')"
   ]
  },
  {
   "cell_type": "markdown",
   "metadata": {},
   "source": [
    "#### 8. Write code that prints Hello if 1 is stored in spam, prints Howdy if 2 is stored in spam, and prints Greetings! if anything else is stored in spam.\n"
   ]
  },
  {
   "cell_type": "code",
   "execution_count": 11,
   "metadata": {},
   "outputs": [
    {
     "name": "stdout",
     "output_type": "stream",
     "text": [
      "Hello\n",
      "Howdy\n",
      "Greetings\n"
     ]
    }
   ],
   "source": [
    "def codespam(spam):\n",
    "    if  spam == 1:\n",
    "        print('Hello')\n",
    "    elif spam == 2:\n",
    "        print('Howdy')\n",
    "    else:\n",
    "        print('Greetings')\n",
    "\n",
    "codespam(1)\n",
    "codespam(2)\n",
    "codespam(4)\n",
    "\n"
   ]
  },
  {
   "cell_type": "markdown",
   "metadata": {},
   "source": [
    "#### 9. If your programme is stuck in an endless loop, what keys you’ll press?\n",
    "**Ans:** Press `Ctrl-c` to stop a program stuck in an endless loop"
   ]
  },
  {
   "cell_type": "markdown",
   "metadata": {},
   "source": [
    "#### 11. In a for loop, what is the difference between range(10), range(0, 10), and range(0, 10, 1)?\n",
    "**Ans:** The Differences are as follows (the answer will be the same from each of these for loops) \n",
    "1. The **range(10)** call range from 0 to 9 (but not include 10)  \n",
    "2. The **range (0,10)** explicitly tells the loop to start at 0  \n",
    "3. The **range(0,10,1)** explicitly tells the loop to increase the variable by 1 on each iteration   "
   ]
  },
  {
   "cell_type": "code",
   "execution_count": 13,
   "metadata": {},
   "outputs": [
    {
     "name": "stdout",
     "output_type": "stream",
     "text": [
      "0\n",
      "1\n",
      "0\n",
      "1\n",
      "0\n",
      "1\n"
     ]
    }
   ],
   "source": [
    "for i in range(2):\n",
    "    print(i)\n",
    "\n",
    "for i in range(0,2):\n",
    "    print(i)\n",
    "\n",
    "for i in range(0,2,1):\n",
    "    print(i)"
   ]
  },
  {
   "cell_type": "markdown",
   "metadata": {},
   "source": [
    "#### 12. Write a short program that prints the numbers 1 to 10 using a for loop. Then write an equivalent program that prints the numbers 1 to 10 using a while loop ? "
   ]
  },
  {
   "cell_type": "code",
   "execution_count": 22,
   "metadata": {},
   "outputs": [
    {
     "name": "stdout",
     "output_type": "stream",
     "text": [
      "********USING For\n",
      "1 2 3 4 5 6 7 8 9 10 \n",
      "\n",
      "********USING WHILE\n",
      "1 2 3 4 5 6 7 8 9 10 "
     ]
    }
   ],
   "source": [
    "print('********USING For')\n",
    "\n",
    "for i in range(1,11):\n",
    "    print(i, end = \" \")\n",
    "\n",
    "print('\\n')\n",
    "\n",
    "print('********USING WHILE')\n",
    "j = 1\n",
    "while j <=10:\n",
    "    print(j, end=\" \")\n",
    "    j+=1"
   ]
  },
  {
   "cell_type": "markdown",
   "metadata": {},
   "source": [
    "#### 13. If you had a function named bacon() inside a module named spam, how would you call it after importing spam ?\n",
    "**Ans:**  `spam.bacon()`"
   ]
  }
 ],
 "metadata": {
  "kernelspec": {
   "display_name": "Python 3.10.4 64-bit",
   "language": "python",
   "name": "python3"
  },
  "language_info": {
   "codemirror_mode": {
    "name": "ipython",
    "version": 3
   },
   "file_extension": ".py",
   "mimetype": "text/x-python",
   "name": "python",
   "nbconvert_exporter": "python",
   "pygments_lexer": "ipython3",
   "version": "3.10.4 (v3.10.4:9d38120e33, Mar 23 2022, 17:29:05) [Clang 13.0.0 (clang-1300.0.29.30)]"
  },
  "orig_nbformat": 4,
  "vscode": {
   "interpreter": {
    "hash": "aee8b7b246df8f9039afb4144a1f6fd8d2ca17a180786b69acc140d282b71a49"
   }
  }
 },
 "nbformat": 4,
 "nbformat_minor": 2
}
