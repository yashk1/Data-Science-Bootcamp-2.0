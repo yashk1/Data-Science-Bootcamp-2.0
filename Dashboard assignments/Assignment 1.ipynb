{
 "cells": [
  {
   "cell_type": "markdown",
   "metadata": {},
   "source": [
    "# Assignment 1 "
   ]
  },
  {
   "cell_type": "markdown",
   "metadata": {},
   "source": [
    "## Question 1 - In the below elements which of them are values or an expression? \n",
    "eg:- values can be integer or string and expressions will be mathematical operators."
   ]
  },
  {
   "cell_type": "code",
   "execution_count": 3,
   "metadata": {},
   "outputs": [
    {
     "data": {
      "text/plain": [
       "\" * \\n'hello'\\n-87.8\\n- \\n/ \\n\\n6 \""
      ]
     },
     "execution_count": 3,
     "metadata": {},
     "output_type": "execute_result"
    }
   ],
   "source": [
    "\"\"\" * \n",
    "'hello'\n",
    "-87.8\n",
    "- \n",
    "/ \n",
    "\n",
    "6 \"\"\" "
   ]
  },
  {
   "cell_type": "markdown",
   "metadata": {},
   "source": [
    "Answer\n",
    "\n",
    "1. \\* -> expression\n",
    "2. 'hello' -> value\n",
    "3. 87.8 -> value\n",
    "4. \\- -> expression\n",
    "5. / -> expression\n",
    "6. + -> expression\n",
    "7. 6 -> value"
   ]
  },
  {
   "cell_type": "markdown",
   "metadata": {},
   "source": [
    "## Question 2- What is the difference between string and variable?\n",
    "\n",
    "String is a type of information that we would store in a variable.\n",
    "\n",
    "Variable are symbols that we use to store data in a program. \n",
    "\n",
    "Example - \n",
    "\n",
    "name = 'yash' \n",
    "name is a variable and the value stored in the name variable 'yash' is a string"
   ]
  },
  {
   "cell_type": "markdown",
   "metadata": {},
   "source": [
    "## Question 3 - Describe three different data types.\n",
    "\n",
    "The three different data types are-\n",
    "1. String - this store string/text as value. eg- name = 'yash'\n",
    "2. Int - this contains integer value to a variable. eg- age = 27\n",
    "3. Bool - this data type stores True/False as values. eg- indian = TRUE"
   ]
  },
  {
   "cell_type": "markdown",
   "metadata": {},
   "source": [
    "## Question 4 - What is an expression made up of? What do all expressions do?\n",
    "\n",
    "Answer:\n",
    "Expression is made up of operators and operands that are used to produce any other value.\n",
    "\n",
    "Example\n",
    "\\+ add\n",
    "\\- subtract\n",
    "\\* - multiply\n",
    "/ - divide\n",
    "// - integer division\n",
    "\n",
    "All the above mentioned operators are expressions\n"
   ]
  },
  {
   "cell_type": "markdown",
   "metadata": {},
   "source": [
    "# Question 5 - This assignment statements, like spam = 10. What is the difference between an expression and a statement?\n",
    "\n",
    "Expression is something that evaluates to a value\n",
    "A statement does somthing\n",
    "\n",
    "Expression -> 2+2 <br>\n",
    "Statement -> x = 2+2\n"
   ]
  },
  {
   "cell_type": "markdown",
   "metadata": {},
   "source": [
    "## Question 6 - After running the following code, what does the variable bacon contain?\n",
    "bacon = 22\n",
    "bacon + 1\n",
    "\n",
    "Answer -> bacon will contain 22. Because we incremneted the value with bacon + 1 but never assigned it to bacon. "
   ]
  },
  {
   "cell_type": "markdown",
   "metadata": {},
   "source": [
    "## Question 7 - What should the values of the following two terms be?\n",
    "'spam' + 'spamspam'\n",
    "\n",
    "'spam' * 3\n",
    "\n",
    "ANSWER - \n",
    "Both will print the same output -> spamspamspam\n"
   ]
  },
  {
   "cell_type": "markdown",
   "metadata": {},
   "source": [
    "## Question8 - Why is eggs a valid variable name while 100 is invalid?\n",
    "\n",
    "Answer-\n",
    "According to the python variable naing rules, variable name cannot start with a number"
   ]
  },
  {
   "cell_type": "markdown",
   "metadata": {},
   "source": [
    "## Question 9 - What three functions can be used to get the integer, floating-point number, or string version of a value?\n",
    "\n",
    "Integer -> int()\n",
    "float -> float()\n",
    "string -> str()"
   ]
  },
  {
   "cell_type": "markdown",
   "metadata": {},
   "source": [
    "## QUestion 10 - Why does this expression cause an error? How can you fix it?\n",
    "'I have eaten ' + 99 + ' burritos.'\n",
    "\n",
    "ANswer-\n",
    "This expression showx an error because we concatenating string with integer\n",
    "\n",
    "Fix- 'I have eaten ' + '99' + ' burritos.'"
   ]
  },
  {
   "cell_type": "markdown",
   "metadata": {},
   "source": []
  }
 ],
 "metadata": {
  "kernelspec": {
   "display_name": "Python 3.10.4 64-bit",
   "language": "python",
   "name": "python3"
  },
  "language_info": {
   "codemirror_mode": {
    "name": "ipython",
    "version": 3
   },
   "file_extension": ".py",
   "mimetype": "text/x-python",
   "name": "python",
   "nbconvert_exporter": "python",
   "pygments_lexer": "ipython3",
   "version": "3.10.4"
  },
  "orig_nbformat": 4,
  "vscode": {
   "interpreter": {
    "hash": "aee8b7b246df8f9039afb4144a1f6fd8d2ca17a180786b69acc140d282b71a49"
   }
  }
 },
 "nbformat": 4,
 "nbformat_minor": 2
}
