{
  "cells": [
    {
      "cell_type": "markdown",
      "metadata": {
        "id": "GT4IytkJMNa-"
      },
      "source": [
        "# Python string manipulation"
      ]
    },
    {
      "cell_type": "markdown",
      "metadata": {},
      "source": [
        "## 1. Count the number of times `iNeuron` appears in the string.\n",
        "```python\n",
        "text = \"Welcome to iNeuron, You are a part of FSDS Bootcamp 2 in iNeuron. I hope you are enjoying the course by iNeuron\"\n",
        "```"
      ]
    },
    {
      "cell_type": "code",
      "execution_count": 4,
      "metadata": {},
      "outputs": [
        {
          "name": "stdout",
          "output_type": "stream",
          "text": [
            "iNeuron apprears 3 times in the \"text\" string\n"
          ]
        }
      ],
      "source": [
        "text = \"Welcome to iNeuron, You are a part of FSDS Bootcamp 2 in iNeuron. I hope you are enjoying the course by iNeuron\"\n",
        "\n",
        "count = text.count('iNeuron')\n",
        "print(f'iNeuron apprears {count} times in the \"text\" string')"
      ]
    },
    {
      "cell_type": "markdown",
      "metadata": {},
      "source": [
        "## 2. Check if position `5` to `11` ends with the phrase `iNeuron.` in the string \n",
        "```python\n",
        "txt = \"Hello, welcome to FSDS 2.0 at iNeuron.\"\n",
        "```"
      ]
    },
    {
      "cell_type": "code",
      "execution_count": 11,
      "metadata": {},
      "outputs": [
        {
          "name": "stdout",
          "output_type": "stream",
          "text": [
            "True\n",
            "position 5 to 11 doesn't end with iNeuron\n"
          ]
        }
      ],
      "source": [
        "txt = \"Hello, welcome to FSDS 2.0 at iNeuron.\"\n",
        "\n",
        "print(txt.endswith('iNeuron.'))\n",
        "\n",
        "if txt.endswith('iNeuron') == txt[5:11]:\n",
        "    print(\"ends with iNeuron\")\n",
        "else:\n",
        "    print(\"position 5 to 11 doesn't end with iNeuron\")\n"
      ]
    },
    {
      "cell_type": "markdown",
      "metadata": {},
      "source": [
        "## 3. Write a program that takes your full name as input and displays the abbreviations of the first and middle names except the last name which is displayed as it is. For example, if your name is Sunny Bhaveen Chandra, then the output should be S.B.Chandra.\n"
      ]
    },
    {
      "cell_type": "code",
      "execution_count": 18,
      "metadata": {},
      "outputs": [
        {
          "name": "stdout",
          "output_type": "stream",
          "text": [
            "Y.K.Sharma\n"
          ]
        }
      ],
      "source": [
        "name = input(\"Enter your full name: \")\n",
        "\n",
        "fname, mname, lname = name.split(\" \")\n",
        "\n",
        "fname_abbr = fname[0]\n",
        "mname_abbr = mname[0]\n",
        "\n",
        "print(f\"{fname_abbr}.{mname_abbr}.{lname}\")"
      ]
    },
    {
      "cell_type": "markdown",
      "metadata": {},
      "source": [
        "## 4. Join all items in a list into a string, using a hash(`#`) character as separator:\n",
        "```python\n",
        "LIST = [\"My\", \"name\", \"is\", \"Rishav\", \"Dash\"]\n",
        "```"
      ]
    },
    {
      "cell_type": "code",
      "execution_count": 19,
      "metadata": {},
      "outputs": [
        {
          "data": {
            "text/plain": [
              "'My#name#is#Rishav#Dash'"
            ]
          },
          "execution_count": 19,
          "metadata": {},
          "output_type": "execute_result"
        }
      ],
      "source": [
        "LIST = [\"My\", \"name\", \"is\", \"Rishav\", \"Dash\"]\n",
        "\n",
        "\"#\".join(LIST)"
      ]
    },
    {
      "cell_type": "markdown",
      "metadata": {},
      "source": [
        "## 5. Write example for the following string manipulation function,\n",
        "\n",
        "  ```\n",
        "  - isdecimal()\n",
        "  - islower()\n",
        "  - isupper()\n",
        "  - isalpha()\n",
        "  - isnumeric()\n",
        "\n",
        "  ```"
      ]
    },
    {
      "cell_type": "code",
      "execution_count": 23,
      "metadata": {},
      "outputs": [
        {
          "data": {
            "text/plain": [
              "True"
            ]
          },
          "execution_count": 23,
          "metadata": {},
          "output_type": "execute_result"
        }
      ],
      "source": [
        "number = \"10\"\n",
        "\n",
        "number.isdecimal()"
      ]
    },
    {
      "cell_type": "code",
      "execution_count": 26,
      "metadata": {},
      "outputs": [
        {
          "name": "stdout",
          "output_type": "stream",
          "text": [
            "name is in lower case\n",
            "name is in upper case\n"
          ]
        }
      ],
      "source": [
        "name1 ='yash'\n",
        "name2 = 'YASH'\n",
        "\n",
        "if name1.islower():\n",
        "    print('name is in lower case')\n",
        "\n",
        "if name2.isupper():\n",
        "    print('name is in upper case')"
      ]
    },
    {
      "cell_type": "code",
      "execution_count": 37,
      "metadata": {},
      "outputs": [
        {
          "name": "stdout",
          "output_type": "stream",
          "text": [
            "False: abc123 is not alphanumeric string\n",
            "True: abcde is alphanumeric string\n"
          ]
        }
      ],
      "source": [
        "seq1 = 'abc123'\n",
        "\n",
        "print(f\"{seq1.isalpha()}: {seq1} is not alphanumeric string\")\n",
        "\n",
        "seq2 = 'abcde'\n",
        "print(f\"{seq2.isalpha()}: {seq2} is alphanumeric string\")\n"
      ]
    },
    {
      "cell_type": "code",
      "execution_count": 40,
      "metadata": {},
      "outputs": [
        {
          "name": "stdout",
          "output_type": "stream",
          "text": [
            "True: 27 is numeric string\n",
            "False: 27abc is not numeric string\n"
          ]
        }
      ],
      "source": [
        "age = '27'\n",
        "\n",
        "print(f\"{age.isnumeric()}: {age} is numeric string\")\n",
        "\n",
        "age ='27abc'\n",
        "print(f\"{age.isnumeric()}: {age} is not numeric string\")\n",
        "\n"
      ]
    },
    {
      "cell_type": "markdown",
      "metadata": {},
      "source": [
        "## 6. Indian PAN card format follows the following formats - \n",
        "    - `AYEPC7894x`\n",
        "    - `ABCDE9999Y`\n",
        "  Take user input for PAN_CARD and validate as per the above example."
      ]
    },
    {
      "cell_type": "code",
      "execution_count": 42,
      "metadata": {},
      "outputs": [
        {
          "name": "stdout",
          "output_type": "stream",
          "text": [
            "AYEPC7894x is not a valid PAN number\n"
          ]
        }
      ],
      "source": [
        "pan = input('Enter your PAN number')\n",
        "\n",
        "first_5 = pan[:5]\n",
        "next_4 = pan[5:9]\n",
        "last = pan[-1]\n",
        "\n",
        "if (len(first_5)==5 and first_5.isalpha() and first_5.isupper())  and (next_4.isnumeric() and len(next_4)==4 )and (len(last) == 1 and last.isalpha()and last.isupper()):\n",
        "    print(f'{pan} is a valid PAN number')\n",
        "else:\n",
        "    print(f'{pan} is not a valid PAN number')"
      ]
    }
  ],
  "metadata": {
    "colab": {
      "collapsed_sections": [],
      "provenance": []
    },
    "kernelspec": {
      "display_name": "Python 3.10.4 64-bit",
      "language": "python",
      "name": "python3"
    },
    "language_info": {
      "codemirror_mode": {
        "name": "ipython",
        "version": 3
      },
      "file_extension": ".py",
      "mimetype": "text/x-python",
      "name": "python",
      "nbconvert_exporter": "python",
      "pygments_lexer": "ipython3",
      "version": "3.10.4"
    },
    "vscode": {
      "interpreter": {
        "hash": "aee8b7b246df8f9039afb4144a1f6fd8d2ca17a180786b69acc140d282b71a49"
      }
    }
  },
  "nbformat": 4,
  "nbformat_minor": 0
}
