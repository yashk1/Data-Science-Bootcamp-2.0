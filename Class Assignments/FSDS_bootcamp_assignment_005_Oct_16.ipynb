{
  "cells": [
    {
      "cell_type": "markdown",
      "metadata": {
        "id": "n3FuI-mutNl6"
      },
      "source": [
        "# List, Tuple and Sets"
      ]
    },
    {
      "cell_type": "markdown",
      "metadata": {
        "id": "hZcGNSR2y9zW"
      },
      "source": [
        "#### 1. On amazon website we have the following available items - \n",
        "\n",
        "```python\n",
        "amazon_website = [(\"watch\", 5000), (\"phone\", 10000), (\"laptop\", 50000), (\"shirt\", 1000)]\n",
        "```\n",
        "Take the user input N no. of times and find out the total cost to be paid?\n",
        "\n",
        "OR\n",
        "\n",
        "You can ask the user quntity or the count of item?\n",
        "\n",
        "if the item is not present in the amazon website then print that item as out of stock and do add it total\n",
        "\n",
        "\n",
        "HINT: while, for loop.. indexing"
      ]
    },
    {
      "cell_type": "code",
      "execution_count": 3,
      "metadata": {},
      "outputs": [],
      "source": [
        "amazon_website = [(\"watch\", 5000), (\"phone\", 10000), (\"laptop\", 50000), (\"shirt\", 1000)]"
      ]
    },
    {
      "cell_type": "code",
      "execution_count": null,
      "metadata": {},
      "outputs": [],
      "source": [
        "total_cost = 0\n",
        "\n",
        "print(f\"Empty cart: {total_cost}\")\n",
        "for item in amazon_website:\n",
        "    total_cost += \n",
        "    print()"
      ]
    },
    {
      "cell_type": "code",
      "execution_count": 11,
      "metadata": {},
      "outputs": [
        {
          "name": "stdout",
          "output_type": "stream",
          "text": [
            "watch added to the cart. Total cost: 5000\n",
            "clock out of stock/not available on amazon\n"
          ]
        }
      ],
      "source": [
        "amazon_website = [(\"watch\", 5000), (\"phone\", 10000), (\"laptop\", 50000), (\"shirt\", 1000)]\n",
        "\n",
        "count = int(input('How many items you want to purchase? '))\n",
        "cart = list()\n",
        "total = 0\n",
        "\n",
        "for i in range(count):\n",
        "    item = input(\"Enter the name of the item: \")\n",
        "\n",
        "    for j in amazon_website:\n",
        "        if item == j[0]:\n",
        "            total += j[1]\n",
        "            print(f\"{item} added to the cart. Total cost: {total}\")\n",
        "            break\n",
        "        else:\n",
        "            print(f'{item} out of stock/not available on amazon')\n",
        "            break\n",
        "            \n"
      ]
    },
    {
      "cell_type": "code",
      "execution_count": 6,
      "metadata": {},
      "outputs": [
        {
          "ename": "ValueError",
          "evalue": "'watch' is not in list",
          "output_type": "error",
          "traceback": [
            "\u001b[0;31m---------------------------------------------------------------------------\u001b[0m",
            "\u001b[0;31mValueError\u001b[0m                                Traceback (most recent call last)",
            "\u001b[1;32m/Users/yash/github/Data-Science-Bootcamp-2.0/Class Assignments/FSDS_bootcamp_assignment_005_Oct_16.ipynb Cell 6\u001b[0m in \u001b[0;36m<cell line: 1>\u001b[0;34m()\u001b[0m\n\u001b[0;32m----> <a href='vscode-notebook-cell:/Users/yash/github/Data-Science-Bootcamp-2.0/Class%20Assignments/FSDS_bootcamp_assignment_005_Oct_16.ipynb#X13sZmlsZQ%3D%3D?line=0'>1</a>\u001b[0m amazon_website\u001b[39m.\u001b[39;49mindex(\u001b[39m'\u001b[39;49m\u001b[39mwatch\u001b[39;49m\u001b[39m'\u001b[39;49m)\n",
            "\u001b[0;31mValueError\u001b[0m: 'watch' is not in list"
          ]
        }
      ],
      "source": [
        "amazon_website.index('watch')"
      ]
    },
    {
      "cell_type": "markdown",
      "metadata": {
        "id": "FQrKC2gzzsUm"
      },
      "source": [
        "#### 2. What will be the output of the following code snippet?\n",
        "\n",
        "```\n",
        "arr = [1, 2, 3, 4, 5, 6]\n",
        "for i in range(1, 6):\n",
        "    arr[i - 1] = arr[i]\n",
        "for i in range(0, 6): \n",
        "    print(arr[i], end = \" \")\n",
        "```\n",
        "\n",
        "ANSWER-\n",
        "2, 3,4,5,6,6\n",
        "\n"
      ]
    },
    {
      "cell_type": "markdown",
      "metadata": {
        "id": "nL_DZJFS0ZZF"
      },
      "source": [
        "#### 3. Write a Python program to find the repeated items of a tuple."
      ]
    },
    {
      "cell_type": "markdown",
      "metadata": {
        "id": "ne8WpLZZ1GSm"
      },
      "source": [
        "### 4. Replace last value of tuples in a list with 500. Try using list comprehension\n",
        "\n",
        "Example -: \n",
        "```\n",
        "Input -:\n",
        "\n",
        "[(10, 20, 40), (40, 50, 60), (70, 80, 90)]\n",
        "\n",
        "Output -:\n",
        "[(10, 20, 500), (40, 50, 500), (70, 80, 500)]\n",
        "\n",
        "\n",
        "```\n"
      ]
    },
    {
      "cell_type": "code",
      "execution_count": null,
      "metadata": {
        "id": "YpvH9Di21z-O"
      },
      "outputs": [],
      "source": []
    },
    {
      "cell_type": "code",
      "execution_count": null,
      "metadata": {
        "id": "mbx4uz9Y2bHk"
      },
      "outputs": [],
      "source": []
    }
  ],
  "metadata": {
    "colab": {
      "collapsed_sections": [],
      "provenance": []
    },
    "kernelspec": {
      "display_name": "Python 3.10.4 64-bit",
      "language": "python",
      "name": "python3"
    },
    "language_info": {
      "codemirror_mode": {
        "name": "ipython",
        "version": 3
      },
      "file_extension": ".py",
      "mimetype": "text/x-python",
      "name": "python",
      "nbconvert_exporter": "python",
      "pygments_lexer": "ipython3",
      "version": "3.10.4"
    },
    "vscode": {
      "interpreter": {
        "hash": "aee8b7b246df8f9039afb4144a1f6fd8d2ca17a180786b69acc140d282b71a49"
      }
    }
  },
  "nbformat": 4,
  "nbformat_minor": 0
}
