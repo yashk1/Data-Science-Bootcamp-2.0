{
  "cells": [
    {
      "cell_type": "markdown",
      "metadata": {
        "id": "n3FuI-mutNl6"
      },
      "source": [
        "## Control flow and conditional statements (assignment 4)"
      ]
    },
    {
      "cell_type": "markdown",
      "metadata": {
        "id": "NCW2epdyuJ-a"
      },
      "source": [
        "## Q1. Find the largest number from the given list, use for loop.\n",
        "\n",
        "```\n",
        "numbers = [12, 75, 150, 180, 145, 525, 50]\n",
        "```"
      ]
    },
    {
      "cell_type": "code",
      "execution_count": 2,
      "metadata": {},
      "outputs": [
        {
          "name": "stdout",
          "output_type": "stream",
          "text": [
            "525\n"
          ]
        }
      ],
      "source": [
        "numbers = [12, 75, 150, 180, 145, 525, 50]\n",
        "\n",
        "largest = 0\n",
        "for num in numbers:\n",
        "    if num > largest:\n",
        "        largest = num\n",
        "print(largest)\n"
      ]
    },
    {
      "cell_type": "markdown",
      "metadata": {
        "id": "Qsg0i1fTwEQj"
      },
      "source": [
        "## Q2. Print all the even number between (1, 12)."
      ]
    },
    {
      "cell_type": "code",
      "execution_count": 3,
      "metadata": {},
      "outputs": [
        {
          "name": "stdout",
          "output_type": "stream",
          "text": [
            "2\n",
            "4\n",
            "6\n",
            "8\n",
            "10\n",
            "12\n"
          ]
        }
      ],
      "source": [
        "for i in range(1, 13):\n",
        "    if i % 2 ==0:\n",
        "       print(i) "
      ]
    },
    {
      "cell_type": "markdown",
      "metadata": {
        "id": "WG2QcDDhwi4a"
      },
      "source": [
        "## Q3. Calculate the sum of all numbers from 1 to a given number\n",
        "    \n",
        "    Expected Output:\n",
        "\n",
        "    Enter number 10\n",
        "    \n",
        "    Sum is:  55\n"
      ]
    },
    {
      "cell_type": "code",
      "execution_count": 7,
      "metadata": {},
      "outputs": [
        {
          "name": "stdout",
          "output_type": "stream",
          "text": [
            "6.0\n"
          ]
        }
      ],
      "source": [
        "number = int(input('Enter a number: '))\n",
        "\n",
        "sum =0\n",
        "for i in range(1, number+1):\n",
        "    sum = (number * (number+1))/2\n",
        "print(sum)"
      ]
    },
    {
      "cell_type": "markdown",
      "metadata": {
        "id": "mc7lLUm5f4Cq"
      },
      "source": [
        "## Q4. Write a program to display only those numbers from a list that satisfy the following conditions\n",
        "\n",
        "- The number must be divisible by five\n",
        "\n",
        "- If the number is greater than 150, then skip it and move to the next number\n",
        "\n",
        "- If the number is greater than 500, then stop the loop"
      ]
    },
    {
      "cell_type": "code",
      "execution_count": 13,
      "metadata": {
        "id": "P3Ct2ocKf6Hy"
      },
      "outputs": [
        {
          "name": "stdout",
          "output_type": "stream",
          "text": [
            "75\n",
            "150\n",
            "145\n"
          ]
        }
      ],
      "source": [
        "# Given:\n",
        "\n",
        "numbers = [12, 75, 150, 180, 145, 525, 50]\n",
        "\n",
        "for num in numbers:\n",
        "    if num > 150:\n",
        "        if num > 500:\n",
        "            break\n",
        "        continue\n",
        "    if num %5 ==0:\n",
        "        print(num)\n"
      ]
    },
    {
      "cell_type": "markdown",
      "metadata": {
        "id": "rrxWvy7nMnAs"
      },
      "source": [
        "## Q5. Print the given list in reverse order.\n",
        "\n",
        "```\n",
        "list1 = [10, 20, 30, 40, 50]\n",
        "```"
      ]
    },
    {
      "cell_type": "code",
      "execution_count": 15,
      "metadata": {
        "id": "z-GDgPn3Nr0y"
      },
      "outputs": [
        {
          "data": {
            "text/plain": [
              "[50, 40, 30, 20, 10]"
            ]
          },
          "execution_count": 15,
          "metadata": {},
          "output_type": "execute_result"
        }
      ],
      "source": [
        "list1 = [10, 20, 30, 40, 50]\n",
        "\n",
        "list1[::-1]"
      ]
    }
  ],
  "metadata": {
    "colab": {
      "collapsed_sections": [],
      "provenance": []
    },
    "kernelspec": {
      "display_name": "Python 3.10.4 64-bit",
      "language": "python",
      "name": "python3"
    },
    "language_info": {
      "codemirror_mode": {
        "name": "ipython",
        "version": 3
      },
      "file_extension": ".py",
      "mimetype": "text/x-python",
      "name": "python",
      "nbconvert_exporter": "python",
      "pygments_lexer": "ipython3",
      "version": "3.10.4"
    },
    "vscode": {
      "interpreter": {
        "hash": "aee8b7b246df8f9039afb4144a1f6fd8d2ca17a180786b69acc140d282b71a49"
      }
    }
  },
  "nbformat": 4,
  "nbformat_minor": 0
}
