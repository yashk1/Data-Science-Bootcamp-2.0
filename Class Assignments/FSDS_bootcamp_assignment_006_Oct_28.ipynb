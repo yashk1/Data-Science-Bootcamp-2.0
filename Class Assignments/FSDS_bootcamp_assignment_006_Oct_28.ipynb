{
 "cells": [
  {
   "cell_type": "markdown",
   "metadata": {},
   "source": [
    "# Assignment 6"
   ]
  },
  {
   "cell_type": "markdown",
   "metadata": {},
   "source": [
    "# Questions\n",
    "1. write a function which will try to find out len of a string without using an inbuilt len function \n",
    "2. write a function which  will be able to print an index of list element without using an index function\n",
    "3. write a function which will be able to print an ip address of your system\n",
    "4. write a function which will shutdown your system\n",
    "5. write a function which will take input as a list with any kind of numeric value and give an out as a multiplication of all the numeric data \n",
    "l = [3.5, 6.56, 4,5,\"sudh\" , \"ineuron\" , 'fsda bootcamp 2.0']\n",
    "6. write a function which will be able to read all the mails \n",
    "7 . write a function which will be able to send a mail to anyone \n",
    "8. write a function which will be able to read a doc/word file from your system \n"
   ]
  },
  {
   "cell_type": "markdown",
   "metadata": {},
   "source": [
    "## Question 1\n",
    "Write a function which will try to find out len of a string without using an inbuilt len function"
   ]
  },
  {
   "cell_type": "code",
   "execution_count": 21,
   "metadata": {},
   "outputs": [
    {
     "data": {
      "text/plain": [
       "'The length of the string -> Yash is : 4'"
      ]
     },
     "execution_count": 21,
     "metadata": {},
     "output_type": "execute_result"
    }
   ],
   "source": [
    "def find_len(str):\n",
    "    \"\"\"This function takes string as an input and return the length of the string without in-built len fun\"\"\"\n",
    "    count = 0\n",
    "\n",
    "    for i in str:\n",
    "        count +=1\n",
    "    \n",
    "    return f'Length of the string -> {str} is : {count}'\n",
    "\n",
    "find_len('Yash')\n",
    "\n"
   ]
  },
  {
   "cell_type": "markdown",
   "metadata": {},
   "source": [
    "## Question 2\n",
    "Write a function which  will be able to print an index of list element without using an index function\n"
   ]
  },
  {
   "cell_type": "code",
   "execution_count": 31,
   "metadata": {},
   "outputs": [
    {
     "name": "stdout",
     "output_type": "stream",
     "text": [
      "The index of 12 is : 0\n",
      "The index of 13 is : 1\n",
      "The index of 14 is : 2\n",
      "The index of 20 is : 3\n",
      "The index of 100 is : 4\n"
     ]
    }
   ],
   "source": [
    "def index_of_elements(lst):\n",
    "    \"\"\"this function takes a list as a parameter and return the index of each element without using index function\"\"\"\n",
    "    for i in range(len(lst)):\n",
    "        print(f'The index of {lst[i]} is : {i}')\n",
    "\n",
    "lst = [12,13,14,20,100]\n",
    "#calling the function\n",
    "index_of_elements(lst)"
   ]
  },
  {
   "cell_type": "markdown",
   "metadata": {},
   "source": [
    "## Question 3\n",
    "write a function which will be able to print an ip address of your system"
   ]
  },
  {
   "cell_type": "code",
   "execution_count": 36,
   "metadata": {},
   "outputs": [
    {
     "data": {
      "text/plain": [
       "\"Your computer's hostname is 'Yashs-MacBook-Pro.local' and it's IP is : 192.168.5.70 \""
      ]
     },
     "execution_count": 36,
     "metadata": {},
     "output_type": "execute_result"
    }
   ],
   "source": [
    "def get_ipaddress():\n",
    "    \"\"\"This function returns the IP address of your computer\"\"\"\n",
    "    import socket\n",
    "    hostname = socket.gethostname()\n",
    "    IP = socket.gethostbyname(hostname)\n",
    "\n",
    "    return f\"Your computer's hostname is '{hostname}' and it's IP is : {IP} \"\n",
    "\n",
    "get_ipaddress()"
   ]
  },
  {
   "cell_type": "markdown",
   "metadata": {},
   "source": [
    "## Question 4\n",
    "write a function which will shutdown your system"
   ]
  },
  {
   "cell_type": "code",
   "execution_count": 37,
   "metadata": {},
   "outputs": [],
   "source": [
    "def shutdown_computer():\n",
    "    import os \n",
    "    os.system('shutdown -h now')\n",
    "    "
   ]
  },
  {
   "cell_type": "markdown",
   "metadata": {},
   "source": [
    "## Question 5\n",
    "write a function which will take input as a list with any kind of numeric value and give an out as a multiplication of all the numeric data\n",
    "\n",
    "\n",
    "l = [3.5, 6.56, 4,5,\"sudh\" , \"ineuron\" , 'fsda bootcamp 2.0']"
   ]
  },
  {
   "cell_type": "code",
   "execution_count": 38,
   "metadata": {},
   "outputs": [
    {
     "data": {
      "text/plain": [
       "459.19999999999993"
      ]
     },
     "execution_count": 38,
     "metadata": {},
     "output_type": "execute_result"
    }
   ],
   "source": [
    "def multiply(lst):\n",
    "    \"\"\"This function takes input as a list and return numltiplication of all the numeric data\"\"\"\n",
    "\n",
    "    prod = 1\n",
    "    for i in lst:\n",
    "        if type(i) == int or type(i) == float:\n",
    "            prod *= i\n",
    "    \n",
    "    return prod\n",
    "\n",
    "lst = [3.5, 6.56, 4,5,\"sudh\" , \"ineuron\" , 'fsda bootcamp 2.0']\n",
    "multiply(lst)"
   ]
  },
  {
   "cell_type": "markdown",
   "metadata": {},
   "source": [
    "## Question 6\n",
    "write a function which will be able to read all the mails "
   ]
  },
  {
   "cell_type": "code",
   "execution_count": null,
   "metadata": {},
   "outputs": [],
   "source": [
    "def read_emails(email, password):\n",
    "    import imap_tools\n",
    "    import"
   ]
  },
  {
   "cell_type": "markdown",
   "metadata": {},
   "source": [
    "## Question 7\n",
    "write a function which will be able to send a mail to anyone"
   ]
  },
  {
   "cell_type": "markdown",
   "metadata": {},
   "source": []
  },
  {
   "cell_type": "markdown",
   "metadata": {},
   "source": [
    "## Question 8\n",
    "write a function which will be able to read a doc/word file from your system"
   ]
  },
  {
   "cell_type": "markdown",
   "metadata": {},
   "source": []
  }
 ],
 "metadata": {
  "kernelspec": {
   "display_name": "Python 3.10.4 64-bit",
   "language": "python",
   "name": "python3"
  },
  "language_info": {
   "codemirror_mode": {
    "name": "ipython",
    "version": 3
   },
   "file_extension": ".py",
   "mimetype": "text/x-python",
   "name": "python",
   "nbconvert_exporter": "python",
   "pygments_lexer": "ipython3",
   "version": "3.10.4"
  },
  "orig_nbformat": 4,
  "vscode": {
   "interpreter": {
    "hash": "aee8b7b246df8f9039afb4144a1f6fd8d2ca17a180786b69acc140d282b71a49"
   }
  }
 },
 "nbformat": 4,
 "nbformat_minor": 2
}
